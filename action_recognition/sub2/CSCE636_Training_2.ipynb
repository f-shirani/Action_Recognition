{
  "nbformat": 4,
  "nbformat_minor": 0,
  "metadata": {
    "colab": {
      "name": "CSCE636_Training_2.ipynb",
      "provenance": [],
      "collapsed_sections": []
    },
    "kernelspec": {
      "name": "python3",
      "display_name": "Python 3"
    },
    "language_info": {
      "name": "python"
    },
    "accelerator": "GPU"
  },
  "cells": [
    {
      "cell_type": "code",
      "metadata": {
        "id": "zrm7kUMb287Z"
      },
      "source": [
        "import pandas as pd\n",
        "import numpy as np\n",
        "import os\n",
        "import glob\n",
        "import cv2\n",
        "from sklearn.model_selection import train_test_split\n",
        "from keras.layers import Dense, Flatten\n",
        "from keras.preprocessing.image import ImageDataGenerator\n",
        "from keras import optimizers\n",
        "from keras import models\n",
        "from keras import layers\n",
        "import keras\n",
        "from keras.utils.vis_utils import plot_model\n",
        "import matplotlib.pyplot as plt    \n",
        "%matplotlib inline"
      ],
      "execution_count": 1,
      "outputs": []
    },
    {
      "cell_type": "code",
      "metadata": {
        "colab": {
          "base_uri": "https://localhost:8080/"
        },
        "id": "60s3040UfSIj",
        "outputId": "2408c5ef-ecf0-4eb4-b389-5859ba54aa80"
      },
      "source": [
        "from google.colab import drive\n",
        "\n",
        "drive.mount('/content/gdrive')"
      ],
      "execution_count": 2,
      "outputs": [
        {
          "output_type": "stream",
          "text": [
            "Drive already mounted at /content/gdrive; to attempt to forcibly remount, call drive.mount(\"/content/gdrive\", force_remount=True).\n"
          ],
          "name": "stdout"
        }
      ]
    },
    {
      "cell_type": "code",
      "metadata": {
        "id": "y3Xcr6yifXES",
        "colab": {
          "base_uri": "https://localhost:8080/"
        },
        "outputId": "e9f3896f-a8fe-40e8-9743-fc6cc02cfe0e"
      },
      "source": [
        "#unzipping and making directories\n",
        "! mkdir train_dir\n",
        "! unzip '/content/gdrive/MyDrive/Training_Drinking.zip' -d train_dir"
      ],
      "execution_count": 3,
      "outputs": [
        {
          "output_type": "stream",
          "text": [
            "mkdir: cannot create directory ‘train_dir’: File exists\n",
            "Archive:  /content/gdrive/MyDrive/Training_Drinking.zip\n",
            "replace train_dir/Training_Drinking/drinking_0.avi? [y]es, [n]o, [A]ll, [N]one, [r]ename: "
          ],
          "name": "stdout"
        }
      ]
    },
    {
      "cell_type": "code",
      "metadata": {
        "id": "qdSDkBdBR-wB",
        "colab": {
          "base_uri": "https://localhost:8080/"
        },
        "outputId": "75edbbf4-a3c0-4274-d235-8aa5fd60b42c"
      },
      "source": [
        "! mkdir frame_dir"
      ],
      "execution_count": 4,
      "outputs": [
        {
          "output_type": "stream",
          "text": [
            "mkdir: cannot create directory ‘frame_dir’: File exists\n"
          ],
          "name": "stdout"
        }
      ]
    },
    {
      "cell_type": "code",
      "metadata": {
        "id": "y6Q_SfHtSEHr"
      },
      "source": [
        "#fuction gets the video and save the frames of videos to .jpg format\n",
        "def get_frames(video_path, dest_path):\n",
        "    file_name = video_path.split('.')[0].split('/')[-1]\n",
        "    cap= cv2.VideoCapture(video_path)\n",
        "    total_frames = int(cap.get(7))\n",
        "    frame_rate = cap.get(5)\n",
        "    # print(file_name,total_frames,frame_rate)\n",
        "    frame_distance = total_frames//10\n",
        "    \n",
        "    count=0\n",
        "    frame_count=0\n",
        "    for i in range (total_frames): #iterating over all the frames of the video.\n",
        "        ret, frame = cap.read()\n",
        "        if ret ==False:  # Checking if the frame is missing, and if missing, we take the previous frame\n",
        "            frame = f_prev\n",
        "        elif ret==True:\n",
        "            f_prev =frame\n",
        "        frame_count +=1\n",
        "        if ((frame_count ==(frame_distance)) and (count<10)):\n",
        "            frame_count = 0\n",
        "            cv2.imwrite(dest_path+'/'+file_name+'_'+ str(count)+\".jpg\",frame)\n",
        "            count +=1\n",
        "    cap.release()\n",
        "    cv2.destroyAllWindows()"
      ],
      "execution_count": 6,
      "outputs": []
    },
    {
      "cell_type": "code",
      "metadata": {
        "id": "_yVFIkF_fi9i"
      },
      "source": [
        "video_dir='/content/train_dir/Training_Drinking'\n",
        "frame_dir='/content/frame_dir'"
      ],
      "execution_count": 7,
      "outputs": []
    },
    {
      "cell_type": "code",
      "metadata": {
        "colab": {
          "base_uri": "https://localhost:8080/"
        },
        "id": "KnoTnw71fluD",
        "outputId": "2cde980e-b18d-4394-b053-a2b0f1befedb"
      },
      "source": [
        "#save the frames of all videos\n",
        "for i in range(len(os.listdir(video_dir))):\n",
        "    video_path = video_dir + '/' + os.listdir(video_dir)[i]\n",
        "    get_frames(video_path,frame_dir)\n",
        "print(\"All frames written in the frame_dir Folder\")"
      ],
      "execution_count": 8,
      "outputs": [
        {
          "output_type": "stream",
          "text": [
            "All frames written in the frame_dir Folder\n"
          ],
          "name": "stdout"
        }
      ]
    },
    {
      "cell_type": "code",
      "metadata": {
        "id": "-9xVY7i_fpaL"
      },
      "source": [
        "img_high=224\n",
        "img_width=224\n",
        "frame_no_video=10"
      ],
      "execution_count": 9,
      "outputs": []
    },
    {
      "cell_type": "code",
      "metadata": {
        "id": "FfMJ6HXifqbQ"
      },
      "source": [
        "def get_train_data(file_name):\n",
        "    training = []\n",
        "    frames_to_select=[]\n",
        "    for i , filename in enumerate(glob.glob(file_name)):\n",
        "\n",
        "        image = cv2.imread(filename)\n",
        "        img = cv2.resize(image, dsize=(img_high,img_width), interpolation=cv2.INTER_CUBIC)\n",
        "        # normalizing the pixel value\n",
        "        img = img/255\n",
        "        training.append(img)\n",
        "    return training\n"
      ],
      "execution_count": 10,
      "outputs": []
    },
    {
      "cell_type": "code",
      "metadata": {
        "id": "q_yqyjkSfuNQ"
      },
      "source": [
        "training = get_train_data(frame_dir + '/*.jpg')"
      ],
      "execution_count": 11,
      "outputs": []
    },
    {
      "cell_type": "code",
      "metadata": {
        "colab": {
          "base_uri": "https://localhost:8080/"
        },
        "id": "-09rDrJHfzK5",
        "outputId": "6be283fc-d7d5-4cb4-c432-c4726ab2daf1"
      },
      "source": [
        "# put label 1 for drinking and 0 for others\n",
        "train_label =[]\n",
        "for file in os.listdir(frame_dir):\n",
        "    label = file.split('_')[0]\n",
        "    if label == 'drinking':\n",
        "        train_label.append(1)\n",
        "    else:\n",
        "        train_label.append(0)\n",
        "print(len(train_label))\n"
      ],
      "execution_count": 12,
      "outputs": [
        {
          "output_type": "stream",
          "text": [
            "1800\n"
          ],
          "name": "stdout"
        }
      ]
    },
    {
      "cell_type": "code",
      "metadata": {
        "colab": {
          "base_uri": "https://localhost:8080/"
        },
        "id": "OTiZ7uOBmK4y",
        "outputId": "20a234af-2d40-4f4b-982d-4303653d0940"
      },
      "source": [
        "vid_num=len(train_label)//frame_no_video\n",
        "X = np.asarray(training)\n",
        "y = np.asarray(train_label)\n",
        "print(y.shape)\n",
        "print(X.shape)"
      ],
      "execution_count": 13,
      "outputs": [
        {
          "output_type": "stream",
          "text": [
            "(1800,)\n",
            "(1800, 224, 224, 3)\n"
          ],
          "name": "stdout"
        }
      ]
    },
    {
      "cell_type": "code",
      "metadata": {
        "id": "6M2PN-Bff54s"
      },
      "source": [
        "# split data to train and validation\n",
        "x_train, x_valid, y_train, y_valid = train_test_split(X,y, test_size=0.4) "
      ],
      "execution_count": 14,
      "outputs": []
    },
    {
      "cell_type": "code",
      "metadata": {
        "id": "gjekZx-3MmsY"
      },
      "source": [
        "# Transfer Learning using pre-trained model\n",
        "\n",
        "from keras.applications import VGG16\n",
        "conv_base = VGG16(weights= 'imagenet', include_top=False, input_shape=(x_train.shape[1], x_train.shape[2], 3))\n",
        "\n",
        "#if you don't give the input shape, it will retrieve it from data\n",
        "#conv_base.summary()"
      ],
      "execution_count": 15,
      "outputs": []
    },
    {
      "cell_type": "code",
      "metadata": {
        "id": "UBKCHL6nMvDT"
      },
      "source": [
        "\n",
        "conv_base.trainable = False"
      ],
      "execution_count": 16,
      "outputs": []
    },
    {
      "cell_type": "code",
      "metadata": {
        "colab": {
          "base_uri": "https://localhost:8080/"
        },
        "id": "zfzWIazsMx1j",
        "outputId": "06da7ca7-529a-4764-b7cf-b06dd192be76"
      },
      "source": [
        "model = models.Sequential()\n",
        "model.add(conv_base)\n",
        "model.add(layers.Flatten())\n",
        "model.add(layers.Dense(512, activation='relu'))\n",
        "model.add(layers.Dense(256, activation='relu'))\n",
        "model.add(layers.Dense(1, activation='sigmoid'))\n",
        "          \n",
        "model.summary()"
      ],
      "execution_count": 17,
      "outputs": [
        {
          "output_type": "stream",
          "text": [
            "Model: \"sequential\"\n",
            "_________________________________________________________________\n",
            "Layer (type)                 Output Shape              Param #   \n",
            "=================================================================\n",
            "vgg16 (Functional)           (None, 7, 7, 512)         14714688  \n",
            "_________________________________________________________________\n",
            "flatten (Flatten)            (None, 25088)             0         \n",
            "_________________________________________________________________\n",
            "dense (Dense)                (None, 512)               12845568  \n",
            "_________________________________________________________________\n",
            "dense_1 (Dense)              (None, 256)               131328    \n",
            "_________________________________________________________________\n",
            "dense_2 (Dense)              (None, 1)                 257       \n",
            "=================================================================\n",
            "Total params: 27,691,841\n",
            "Trainable params: 12,977,153\n",
            "Non-trainable params: 14,714,688\n",
            "_________________________________________________________________\n"
          ],
          "name": "stdout"
        }
      ]
    },
    {
      "cell_type": "code",
      "metadata": {
        "colab": {
          "base_uri": "https://localhost:8080/",
          "height": 564
        },
        "id": "oK-zyaLiDKMM",
        "outputId": "cfa1c3cc-1afe-43d2-ad89-500a3e6c2766"
      },
      "source": [
        "plot_model(model, to_file='vgg_model.png')"
      ],
      "execution_count": 18,
      "outputs": [
        {
          "output_type": "execute_result",
          "data": {
            "image/png": "[encoded data removed]",
            "text/plain": [
              "<IPython.core.display.Image object>"
            ]
          },
          "metadata": {
            "tags": []
          },
          "execution_count": 18
        }
      ]
    },
    {
      "cell_type": "code",
      "metadata": {
        "id": "t8xQaLSkM5qB"
      },
      "source": [
        "model.compile(loss='binary_crossentropy',\n",
        "              optimizer=optimizers.RMSprop(lr=2e-5),\n",
        "              metrics=['acc'])"
      ],
      "execution_count": 20,
      "outputs": []
    },
    {
      "cell_type": "code",
      "metadata": {
        "id": "JSYBpwceM6y6"
      },
      "source": [
        "datagen = ImageDataGenerator(\n",
        "    featurewise_center=True,\n",
        "    featurewise_std_normalization=True,\n",
        "    rotation_range=20,\n",
        "    width_shift_range=0.2,\n",
        "    height_shift_range=0.2,\n",
        "    horizontal_flip=True)\n",
        "\n",
        "test_datagen = ImageDataGenerator( rescale = 1.0/255. )\n",
        "\n",
        "datagen.fit(x_train)"
      ],
      "execution_count": 21,
      "outputs": []
    },
    {
      "cell_type": "code",
      "metadata": {
        "id": "dt1j3SpNM_Gj"
      },
      "source": [
        "validation_datagen = ImageDataGenerator()       # no augmentation for validation set\n",
        "validation_datagen.fit(x_valid)"
      ],
      "execution_count": 22,
      "outputs": []
    },
    {
      "cell_type": "code",
      "metadata": {
        "id": "ekrXjBuSX9jU"
      },
      "source": [
        "from keras.callbacks import ModelCheckpoint\n",
        "path = F\"/content/gdrive/MyDrive/model1.h5\" \n",
        "checkpoint = ModelCheckpoint(path, monitor='val_loss', verbose=1, save_best_only=True, mode='min')"
      ],
      "execution_count": 23,
      "outputs": []
    },
    {
      "cell_type": "code",
      "metadata": {
        "colab": {
          "base_uri": "https://localhost:8080/"
        },
        "id": "owpTMJU9NB8M",
        "outputId": "1025b768-19a4-4658-ac57-c92eb0d944c5"
      },
      "source": [
        "epochs = 5\n",
        "history = model.fit(datagen.flow(x_train, y_train, batch_size=32),\n",
        "                    steps_per_epoch=len(x_train) / 32, epochs=epochs,\n",
        "                              validation_data=validation_datagen.flow(x_valid, y_valid, batch_size=32),callbacks=[checkpoint])"
      ],
      "execution_count": 24,
      "outputs": [
        {
          "output_type": "stream",
          "text": [
            "Epoch 1/5\n",
            "33/33 [==============================] - 54s 657ms/step - loss: 0.6379 - acc: 0.6100 - val_loss: 0.5738 - val_acc: 0.7653\n",
            "\n",
            "Epoch 00001: val_loss improved from inf to 0.57379, saving model to /content/gdrive/MyDrive/model1.h5\n",
            "Epoch 2/5\n",
            "33/33 [==============================] - 15s 436ms/step - loss: 0.4553 - acc: 0.8108 - val_loss: 0.5299 - val_acc: 0.7750\n",
            "\n",
            "Epoch 00002: val_loss improved from 0.57379 to 0.52985, saving model to /content/gdrive/MyDrive/model1.h5\n",
            "Epoch 3/5\n",
            "33/33 [==============================] - 15s 442ms/step - loss: 0.3700 - acc: 0.8596 - val_loss: 0.4761 - val_acc: 0.7972\n",
            "\n",
            "Epoch 00003: val_loss improved from 0.52985 to 0.47610, saving model to /content/gdrive/MyDrive/model1.h5\n",
            "Epoch 4/5\n",
            "33/33 [==============================] - 15s 441ms/step - loss: 0.3332 - acc: 0.8829 - val_loss: 0.5075 - val_acc: 0.7333\n",
            "\n",
            "Epoch 00004: val_loss did not improve from 0.47610\n",
            "Epoch 5/5\n",
            "33/33 [==============================] - 14s 428ms/step - loss: 0.2916 - acc: 0.8931 - val_loss: 0.4457 - val_acc: 0.8000\n",
            "\n",
            "Epoch 00005: val_loss improved from 0.47610 to 0.44569, saving model to /content/gdrive/MyDrive/model1.h5\n"
          ],
          "name": "stdout"
        }
      ]
    },
    {
      "cell_type": "code",
      "metadata": {
        "colab": {
          "base_uri": "https://localhost:8080/",
          "height": 312
        },
        "id": "9UdF52f1TG73",
        "outputId": "b7e0fd75-8054-4096-e2d5-768e7705359d"
      },
      "source": [
        "loss = history.history['loss']\n",
        "val_loss = history.history['val_loss']\n",
        "\n",
        "# Plot Training and Validation loss over epoch\n",
        "epochs = range(1,6)\n",
        "plt.plot(epochs, loss , 'b', label = 'training loss')\n",
        "plt.plot(epochs, val_loss, 'g', label = 'validation loss')\n",
        "plt.title('Training and validation requiremet loss')\n",
        "plt.ylabel('loss')\n",
        "plt.xlabel('epochs')\n",
        "plt.legend()\n"
      ],
      "execution_count": 25,
      "outputs": [
        {
          "output_type": "execute_result",
          "data": {
            "text/plain": [
              "<matplotlib.legend.Legend at 0x7fc47d7ea610>"
            ]
          },
          "metadata": {
            "tags": []
          },
          "execution_count": 25
        },
        {
          "output_type": "display_data",
          "data": {
            "image/png": "[encoded data removed]",
            "text/plain": [
              "<Figure size 432x288 with 1 Axes>"
            ]
          },
          "metadata": {
            "tags": [],
            "needs_background": "light"
          }
        }
      ]
    },
    {
      "cell_type": "code",
      "metadata": {
        "id": "2GC45ZgybhPo",
        "colab": {
          "base_uri": "https://localhost:8080/"
        },
        "outputId": "19fbed10-ed95-4cd9-8e00-2e8f9e795bea"
      },
      "source": [
        "! mkdir test_dir\n",
        "! unzip '/content/gdrive/MyDrive/Test_Drinking.zip' -d test_dir\n",
        "! mkdir frames_test"
      ],
      "execution_count": 26,
      "outputs": [
        {
          "output_type": "stream",
          "text": [
            "mkdir: cannot create directory ‘test_dir’: File exists\n",
            "Archive:  /content/gdrive/MyDrive/Test_Drinking.zip\n",
            "replace test_dir/Test_Drinking/drinking_0.avi? [y]es, [n]o, [A]ll, [N]one, [r]ename: mkdir: cannot create directory ‘frames_test’: File exists\n"
          ],
          "name": "stdout"
        }
      ]
    },
    {
      "cell_type": "code",
      "metadata": {
        "id": "EIno6QuubiF5"
      },
      "source": [
        "test_dir='/content/test_dir/Test_Drinking'\n",
        "frames_test='/content/frames_test'"
      ],
      "execution_count": 27,
      "outputs": []
    },
    {
      "cell_type": "code",
      "metadata": {
        "id": "BPGa2m0PblWh",
        "colab": {
          "base_uri": "https://localhost:8080/"
        },
        "outputId": "6d8e6f4e-502d-4a35-97fa-48108bacd9c8"
      },
      "source": [
        "#save the frames of all videos\n",
        "for i in range(len(os.listdir(test_dir))):\n",
        "    video_path = test_dir + '/' + os.listdir(test_dir)[i]\n",
        "    get_frames(video_path,frames_test)\n",
        "print(\"All frames written in the frame_dir Folder\")"
      ],
      "execution_count": 28,
      "outputs": [
        {
          "output_type": "stream",
          "text": [
            "All frames written in the frame_dir Folder\n"
          ],
          "name": "stdout"
        }
      ]
    },
    {
      "cell_type": "code",
      "metadata": {
        "id": "uTS1Pvh1boJm"
      },
      "source": [
        "testing = get_train_data(frames_test + '/*.jpg')"
      ],
      "execution_count": 29,
      "outputs": []
    },
    {
      "cell_type": "code",
      "metadata": {
        "id": "L4rakZJKbsco",
        "colab": {
          "base_uri": "https://localhost:8080/"
        },
        "outputId": "824665aa-faa3-425d-c44b-063012717508"
      },
      "source": [
        "test_label =[]\n",
        "for file in os.listdir(frames_test):\n",
        "    label = file.split('_')[0]\n",
        "    if label == 'drinking':\n",
        "        test_label.append(1)\n",
        "    else:\n",
        "        test_label.append(0)\n",
        "print(len(test_label))"
      ],
      "execution_count": 30,
      "outputs": [
        {
          "output_type": "stream",
          "text": [
            "400\n"
          ],
          "name": "stdout"
        }
      ]
    },
    {
      "cell_type": "code",
      "metadata": {
        "id": "8pC4DtrdbtIV",
        "colab": {
          "base_uri": "https://localhost:8080/"
        },
        "outputId": "2b9dbc6e-abb2-4e0a-97b7-c955cd7352f5"
      },
      "source": [
        "vid_num=len(test_label)//frame_no_video\n",
        "X_test = np.asarray(testing)\n",
        "y_test = np.asarray(test_label)\n",
        "print(X_test.shape)\n",
        "print(y_test.shape)"
      ],
      "execution_count": 31,
      "outputs": [
        {
          "output_type": "stream",
          "text": [
            "(400, 224, 224, 3)\n",
            "(400,)\n"
          ],
          "name": "stdout"
        }
      ]
    },
    {
      "cell_type": "code",
      "metadata": {
        "id": "nUvZ1Gf5bw_z",
        "colab": {
          "base_uri": "https://localhost:8080/"
        },
        "outputId": "57b39b8c-a49a-44d1-9697-9fac2a33df2b"
      },
      "source": [
        "scores = model.evaluate(X_test, y_test)\n",
        "print(\"%s: %.2f%%\" % (model.metrics_names[1], scores[1]*100))"
      ],
      "execution_count": 32,
      "outputs": [
        {
          "output_type": "stream",
          "text": [
            "13/13 [==============================] - 2s 119ms/step - loss: 0.5914 - acc: 0.7025\n",
            "acc: 70.25%\n"
          ],
          "name": "stdout"
        }
      ]
    },
    {
      "cell_type": "code",
      "metadata": {
        "id": "zz88NX_GgRid"
      },
      "source": [
        ""
      ],
      "execution_count": null,
      "outputs": []
    }
  ]
}