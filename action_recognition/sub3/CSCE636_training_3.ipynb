{
  "nbformat": 4,
  "nbformat_minor": 0,
  "metadata": {
    "colab": {
      "name": "CSCE636_training_3.ipynb",
      "provenance": [],
      "collapsed_sections": []
    },
    "kernelspec": {
      "name": "python3",
      "display_name": "Python 3"
    },
    "language_info": {
      "name": "python"
    },
    "accelerator": "GPU"
  },
  "cells": [
    {
      "cell_type": "code",
      "metadata": {
        "id": "zrm7kUMb287Z"
      },
      "source": [
        "import pandas as pd\n",
        "import numpy as np\n",
        "import os\n",
        "import glob\n",
        "import cv2\n",
        "# from keras.preprocessing import image   # for preprocessing the images\n",
        "from sklearn.model_selection import train_test_split\n",
        "from keras.models import Sequential\n",
        "from keras.layers import Dense, Flatten, Conv3D, MaxPooling3D, Dropout, BatchNormalization\n",
        "# from keras.utils import to_categorical\n",
        "from keras.preprocessing.image import ImageDataGenerator\n",
        "from keras import optimizers\n",
        "from keras import models\n",
        "from keras import layers\n",
        "import keras\n",
        "# from keras.layers import TimeDistributed, Conv2D, Dense, MaxPooling2D, Flatten, LSTM, Dropout, BatchNormalization\n",
        "from keras.utils.vis_utils import plot_model\n",
        "import matplotlib.pyplot as plt    \n",
        "%matplotlib inline"
      ],
      "execution_count": null,
      "outputs": []
    },
    {
      "cell_type": "code",
      "metadata": {
        "colab": {
          "base_uri": "https://localhost:8080/"
        },
        "id": "60s3040UfSIj",
        "outputId": "73aa4290-fe91-4c6b-dc6c-3117c1429a16"
      },
      "source": [
        "from google.colab import drive\n",
        "\n",
        "drive.mount('/content/gdrive')"
      ],
      "execution_count": null,
      "outputs": [
        {
          "output_type": "stream",
          "text": [
            "Drive already mounted at /content/gdrive; to attempt to forcibly remount, call drive.mount(\"/content/gdrive\", force_remount=True).\n"
          ],
          "name": "stdout"
        }
      ]
    },
    {
      "cell_type": "code",
      "metadata": {
        "colab": {
          "base_uri": "https://localhost:8080/"
        },
        "id": "y3Xcr6yifXES",
        "outputId": "88499466-1934-4d4c-ab4d-c7e7f72893ce"
      },
      "source": [
        "#unzipping and making directories\n",
        "! mkdir train_dir\n",
        "! unzip '/content/gdrive/MyDrive/Training_Drinking.zip' -d train_dir"
      ],
      "execution_count": null,
      "outputs": [
        {
          "output_type": "stream",
          "text": [
            "mkdir: cannot create directory ‘train_dir’: File exists\n",
            "Archive:  /content/gdrive/MyDrive/Training_Drinking.zip\n",
            "replace train_dir/Training_Drinking/drinking_0.avi? [y]es, [n]o, [A]ll, [N]one, [r]ename: "
          ],
          "name": "stdout"
        }
      ]
    },
    {
      "cell_type": "code",
      "metadata": {
        "id": "qdSDkBdBR-wB"
      },
      "source": [
        "! mkdir frame_dir"
      ],
      "execution_count": null,
      "outputs": []
    },
    {
      "cell_type": "code",
      "metadata": {
        "id": "y6Q_SfHtSEHr"
      },
      "source": [
        "#fuction gets the video and save the frames of videos to .jpg format\n",
        "def get_frames(video_path, dest_path):\n",
        "    file_name = video_path.split('.')[0].split('/')[-1]\n",
        "    cap= cv2.VideoCapture(video_path)\n",
        "    total_frames = int(cap.get(7))\n",
        "    frame_rate = cap.get(5)\n",
        "    # print(file_name,total_frames,frame_rate)\n",
        "    frame_distance = total_frames//10\n",
        "    \n",
        "    count=0\n",
        "    frame_count=0\n",
        "    for i in range (total_frames): #iterating over all the frames of the video.\n",
        "        ret, frame = cap.read()\n",
        "        if ret ==False:  # Checking if the frame is missing, and if missing, we take the previous frame\n",
        "            frame = f_prev\n",
        "        elif ret==True:\n",
        "            f_prev =frame\n",
        "        frame_count +=1\n",
        "        if ((frame_count ==(frame_distance)) and (count<10)):\n",
        "            frame_count = 0\n",
        "            cv2.imwrite(dest_path+'/'+file_name+'_'+ str(count)+\".jpg\",frame)\n",
        "            count +=1\n",
        "    cap.release()\n",
        "    cv2.destroyAllWindows()"
      ],
      "execution_count": null,
      "outputs": []
    },
    {
      "cell_type": "code",
      "metadata": {
        "id": "_yVFIkF_fi9i"
      },
      "source": [
        "video_dir='/content/train_dir/Training_Drinking'\n",
        "frame_dir='/content/frame_dir'"
      ],
      "execution_count": null,
      "outputs": []
    },
    {
      "cell_type": "code",
      "metadata": {
        "colab": {
          "base_uri": "https://localhost:8080/"
        },
        "id": "KnoTnw71fluD",
        "outputId": "43b318cf-fcdd-487e-b6d8-985eb1571c05"
      },
      "source": [
        "#save the frames of all videos\n",
        "for i in range(len(os.listdir(video_dir))):\n",
        "    video_path = video_dir + '/' + os.listdir(video_dir)[i]\n",
        "    get_frames(video_path,frame_dir)\n",
        "print(\"All frames written in the frame_dir Folder\")"
      ],
      "execution_count": null,
      "outputs": [
        {
          "output_type": "stream",
          "text": [
            "All frames written in the frame_dir Folder\n"
          ],
          "name": "stdout"
        }
      ]
    },
    {
      "cell_type": "code",
      "metadata": {
        "id": "-9xVY7i_fpaL"
      },
      "source": [
        "img_high=224\n",
        "img_width=224\n",
        "frame_no_video=10"
      ],
      "execution_count": null,
      "outputs": []
    },
    {
      "cell_type": "code",
      "metadata": {
        "id": "FfMJ6HXifqbQ"
      },
      "source": [
        "def get_train_data(file_name):\n",
        "    training = []\n",
        "    frames_to_select=[]\n",
        "    for i , filename in enumerate(glob.glob(file_name)):\n",
        "\n",
        "        image = cv2.imread(filename)\n",
        "        img = cv2.resize(image, dsize=(img_high,img_width), interpolation=cv2.INTER_CUBIC)\n",
        "        # normalizing the pixel value\n",
        "        img = img/255\n",
        "        training.append(img)\n",
        "    return training\n"
      ],
      "execution_count": null,
      "outputs": []
    },
    {
      "cell_type": "code",
      "metadata": {
        "id": "q_yqyjkSfuNQ"
      },
      "source": [
        "training = get_train_data(frame_dir + '/*.jpg')"
      ],
      "execution_count": null,
      "outputs": []
    },
    {
      "cell_type": "code",
      "metadata": {
        "colab": {
          "base_uri": "https://localhost:8080/"
        },
        "id": "-09rDrJHfzK5",
        "outputId": "e75ba61a-cc9d-41ed-f194-71bf3c440d4e"
      },
      "source": [
        "# put label 1 for drinking and 0 for others\n",
        "train_label =[]\n",
        "for file in os.listdir(frame_dir):\n",
        "    label = file.split('_')[0]\n",
        "    if label == 'drinking':\n",
        "        train_label.append(1)\n",
        "    else:\n",
        "        train_label.append(0)\n",
        "print(len(train_label))\n"
      ],
      "execution_count": null,
      "outputs": [
        {
          "output_type": "stream",
          "text": [
            "1800\n"
          ],
          "name": "stdout"
        }
      ]
    },
    {
      "cell_type": "code",
      "metadata": {
        "colab": {
          "base_uri": "https://localhost:8080/"
        },
        "id": "OTiZ7uOBmK4y",
        "outputId": "afa110ce-24ca-49f4-8732-06b520c58587"
      },
      "source": [
        "vid_num=len(train_label)//frame_no_video\n",
        "X = np.asarray(training)\n",
        "y = np.asarray(train_label)\n",
        "print(y.shape)\n",
        "print(X.shape)"
      ],
      "execution_count": null,
      "outputs": [
        {
          "output_type": "stream",
          "text": [
            "(1800,)\n",
            "(1800, 224, 224, 3)\n"
          ],
          "name": "stdout"
        }
      ]
    },
    {
      "cell_type": "code",
      "metadata": {
        "id": "6M2PN-Bff54s"
      },
      "source": [
        "# split data to train and validation\n",
        "x_train, x_valid, y_train, y_valid = train_test_split(X,y, test_size=0.4) "
      ],
      "execution_count": null,
      "outputs": []
    },
    {
      "cell_type": "code",
      "metadata": {
        "id": "gjekZx-3MmsY"
      },
      "source": [
        "# Transfer Learning using pre-trained model\n",
        "\n",
        "from keras.applications import VGG16\n",
        "conv_base = VGG16(weights= 'imagenet', include_top=False, input_shape=(x_train.shape[1], x_train.shape[2], 3))\n",
        "\n",
        "#if you don't give the input shape, it will retrieve it from data\n",
        "#conv_base.summary()"
      ],
      "execution_count": null,
      "outputs": []
    },
    {
      "cell_type": "code",
      "metadata": {
        "id": "UBKCHL6nMvDT"
      },
      "source": [
        "conv_base.trainable = False"
      ],
      "execution_count": null,
      "outputs": []
    },
    {
      "cell_type": "code",
      "metadata": {
        "colab": {
          "base_uri": "https://localhost:8080/"
        },
        "id": "zfzWIazsMx1j",
        "outputId": "7bb91fbd-d71f-4b56-9098-c49cfb45bfdf"
      },
      "source": [
        "model = models.Sequential()\n",
        "model.add(conv_base)\n",
        "model.add(layers.Flatten())\n",
        "model.add(layers.Dense(512, activation='relu'))\n",
        "model.add(layers.Dense(256, activation='relu'))\n",
        "model.add(layers.Dense(128, activation='relu'))\n",
        "model.add(layers.Dense(64, activation='relu'))\n",
        "model.add(Dropout(0.5))\n",
        "model.add(layers.Dense(1, activation='sigmoid'))\n",
        "          \n",
        "model.summary()"
      ],
      "execution_count": null,
      "outputs": [
        {
          "output_type": "stream",
          "text": [
            "Model: \"sequential\"\n",
            "_________________________________________________________________\n",
            "Layer (type)                 Output Shape              Param #   \n",
            "=================================================================\n",
            "vgg16 (Functional)           (None, 7, 7, 512)         14714688  \n",
            "_________________________________________________________________\n",
            "flatten (Flatten)            (None, 25088)             0         \n",
            "_________________________________________________________________\n",
            "dense (Dense)                (None, 512)               12845568  \n",
            "_________________________________________________________________\n",
            "dense_1 (Dense)              (None, 256)               131328    \n",
            "_________________________________________________________________\n",
            "dense_2 (Dense)              (None, 128)               32896     \n",
            "_________________________________________________________________\n",
            "dense_3 (Dense)              (None, 64)                8256      \n",
            "_________________________________________________________________\n",
            "dropout (Dropout)            (None, 64)                0         \n",
            "_________________________________________________________________\n",
            "dense_4 (Dense)              (None, 1)                 65        \n",
            "=================================================================\n",
            "Total params: 27,732,801\n",
            "Trainable params: 13,018,113\n",
            "Non-trainable params: 14,714,688\n",
            "_________________________________________________________________\n"
          ],
          "name": "stdout"
        }
      ]
    },
    {
      "cell_type": "code",
      "metadata": {
        "colab": {
          "base_uri": "https://localhost:8080/",
          "height": 856
        },
        "id": "ovHlpLWlNxvC",
        "outputId": "64d2dbf1-a8d3-45cb-d101-80e958ba0337"
      },
      "source": [
        "plot_model(model, to_file='vgg.png')"
      ],
      "execution_count": null,
      "outputs": [
        {
          "output_type": "execute_result",
          "data": {
            "image/png": "[encoded data removed]",
            "text/plain": [
              "<IPython.core.display.Image object>"
            ]
          },
          "metadata": {
            "tags": []
          },
          "execution_count": 15
        }
      ]
    },
    {
      "cell_type": "code",
      "metadata": {
        "id": "t8xQaLSkM5qB"
      },
      "source": [
        "model.compile(loss='binary_crossentropy',\n",
        "              optimizer=optimizers.RMSprop(lr=2e-5),\n",
        "              metrics=['acc'])"
      ],
      "execution_count": null,
      "outputs": []
    },
    {
      "cell_type": "code",
      "metadata": {
        "id": "JSYBpwceM6y6"
      },
      "source": [
        "datagen = ImageDataGenerator(\n",
        "    featurewise_center=True,\n",
        "    featurewise_std_normalization=True,\n",
        "    rotation_range=20,\n",
        "    width_shift_range=0.2,\n",
        "    height_shift_range=0.2,\n",
        "    horizontal_flip=True)\n",
        "\n",
        "datagen.fit(x_train)"
      ],
      "execution_count": null,
      "outputs": []
    },
    {
      "cell_type": "code",
      "metadata": {
        "id": "dt1j3SpNM_Gj"
      },
      "source": [
        "validation_datagen = ImageDataGenerator()       # no augmentation for validation set\n",
        "validation_datagen.fit(x_valid)"
      ],
      "execution_count": null,
      "outputs": []
    },
    {
      "cell_type": "code",
      "metadata": {
        "id": "ekrXjBuSX9jU"
      },
      "source": [
        "from keras.callbacks import ModelCheckpoint\n",
        "path = F\"/content/gdrive/MyDrive/model3.h5\" \n",
        "checkpoint = ModelCheckpoint(path, monitor='val_loss', verbose=1, save_best_only=True, mode='min')"
      ],
      "execution_count": null,
      "outputs": []
    },
    {
      "cell_type": "code",
      "metadata": {
        "colab": {
          "base_uri": "https://localhost:8080/"
        },
        "id": "owpTMJU9NB8M",
        "outputId": "1770ce14-2e9c-4cd9-8722-07dd39cdcf8e"
      },
      "source": [
        "epochs = 10\n",
        "history = model.fit(datagen.flow(x_train, y_train, batch_size=32),\n",
        "                    steps_per_epoch=len(x_train) / 32, epochs=epochs,\n",
        "                              validation_data=validation_datagen.flow(x_valid, y_valid, batch_size=32),callbacks=[checkpoint])"
      ],
      "execution_count": null,
      "outputs": [
        {
          "output_type": "stream",
          "text": [
            "Epoch 1/10\n",
            "33/33 [==============================] - 61s 666ms/step - loss: 0.6657 - acc: 0.5670 - val_loss: 0.6694 - val_acc: 0.5458\n",
            "\n",
            "Epoch 00001: val_loss improved from inf to 0.66945, saving model to /content/gdrive/MyDrive/model3.h5\n",
            "Epoch 2/10\n",
            "33/33 [==============================] - 15s 443ms/step - loss: 0.5555 - acc: 0.5332 - val_loss: 0.6063 - val_acc: 0.5458\n",
            "\n",
            "Epoch 00002: val_loss improved from 0.66945 to 0.60630, saving model to /content/gdrive/MyDrive/model3.h5\n",
            "Epoch 3/10\n",
            "33/33 [==============================] - 15s 444ms/step - loss: 0.4568 - acc: 0.5575 - val_loss: 0.5544 - val_acc: 0.5458\n",
            "\n",
            "Epoch 00003: val_loss improved from 0.60630 to 0.55436, saving model to /content/gdrive/MyDrive/model3.h5\n",
            "Epoch 4/10\n",
            "33/33 [==============================] - 15s 448ms/step - loss: 0.4125 - acc: 0.5645 - val_loss: 0.5434 - val_acc: 0.5458\n",
            "\n",
            "Epoch 00004: val_loss improved from 0.55436 to 0.54340, saving model to /content/gdrive/MyDrive/model3.h5\n",
            "Epoch 5/10\n",
            "33/33 [==============================] - 15s 451ms/step - loss: 0.3725 - acc: 0.5554 - val_loss: 0.5005 - val_acc: 0.5458\n",
            "\n",
            "Epoch 00005: val_loss improved from 0.54340 to 0.50045, saving model to /content/gdrive/MyDrive/model3.h5\n",
            "Epoch 6/10\n",
            "33/33 [==============================] - 15s 448ms/step - loss: 0.3067 - acc: 0.5668 - val_loss: 0.4913 - val_acc: 0.5458\n",
            "\n",
            "Epoch 00006: val_loss improved from 0.50045 to 0.49129, saving model to /content/gdrive/MyDrive/model3.h5\n",
            "Epoch 7/10\n",
            "33/33 [==============================] - 15s 451ms/step - loss: 0.2844 - acc: 0.5604 - val_loss: 0.4802 - val_acc: 0.5458\n",
            "\n",
            "Epoch 00007: val_loss improved from 0.49129 to 0.48019, saving model to /content/gdrive/MyDrive/model3.h5\n",
            "Epoch 8/10\n",
            "33/33 [==============================] - 15s 453ms/step - loss: 0.2440 - acc: 0.5736 - val_loss: 0.4740 - val_acc: 0.5458\n",
            "\n",
            "Epoch 00008: val_loss improved from 0.48019 to 0.47396, saving model to /content/gdrive/MyDrive/model3.h5\n",
            "Epoch 9/10\n",
            "33/33 [==============================] - 15s 456ms/step - loss: 0.2104 - acc: 0.5723 - val_loss: 0.4310 - val_acc: 0.5458\n",
            "\n",
            "Epoch 00009: val_loss improved from 0.47396 to 0.43095, saving model to /content/gdrive/MyDrive/model3.h5\n",
            "Epoch 10/10\n",
            "33/33 [==============================] - 15s 454ms/step - loss: 0.2176 - acc: 0.5365 - val_loss: 0.4264 - val_acc: 0.5458\n",
            "\n",
            "Epoch 00010: val_loss improved from 0.43095 to 0.42637, saving model to /content/gdrive/MyDrive/model3.h5\n"
          ],
          "name": "stdout"
        }
      ]
    },
    {
      "cell_type": "code",
      "metadata": {
        "colab": {
          "base_uri": "https://localhost:8080/",
          "height": 312
        },
        "id": "9UdF52f1TG73",
        "outputId": "7c23aa7e-ff5b-48e3-9038-00bfc50ace94"
      },
      "source": [
        "loss = history.history['loss']\n",
        "val_loss = history.history['val_loss']\n",
        "\n",
        "# Plot Training and Validation loss over epoch\n",
        "epochs = range(1,11)\n",
        "plt.plot(epochs, loss , 'b', label = 'training loss')\n",
        "plt.plot(epochs, val_loss, 'g', label = 'validation loss')\n",
        "plt.title('Training and validation requiremet loss')\n",
        "plt.ylabel('loss')\n",
        "plt.xlabel('epochs')\n",
        "plt.legend()\n"
      ],
      "execution_count": null,
      "outputs": [
        {
          "output_type": "execute_result",
          "data": {
            "text/plain": [
              "<matplotlib.legend.Legend at 0x7f2dd02712d0>"
            ]
          },
          "metadata": {
            "tags": []
          },
          "execution_count": 22
        },
        {
          "output_type": "display_data",
          "data": {
            "image/png": "[encoded data removed]",
            "text/plain": [
              "<Figure size 432x288 with 1 Axes>"
            ]
          },
          "metadata": {
            "tags": [],
            "needs_background": "light"
          }
        }
      ]
    },
    {
      "cell_type": "code",
      "metadata": {
        "id": "2GC45ZgybhPo",
        "colab": {
          "base_uri": "https://localhost:8080/"
        },
        "outputId": "0869d9df-d3c0-4c37-df9c-fc5a72a80a88"
      },
      "source": [
        "! mkdir test_dir\n",
        "! unzip '/content/gdrive/MyDrive/Test_Drinking.zip' -d test_dir\n",
        "! mkdir frames_test"
      ],
      "execution_count": null,
      "outputs": [
        {
          "output_type": "stream",
          "text": [
            "Archive:  /content/gdrive/MyDrive/Test_Drinking.zip\n",
            "   creating: test_dir/Test_Drinking/\n",
            "  inflating: test_dir/Test_Drinking/drinking_0.avi  \n",
            "  inflating: test_dir/Test_Drinking/drinking_1.avi  \n",
            "  inflating: test_dir/Test_Drinking/drinking_10.avi  \n",
            "  inflating: test_dir/Test_Drinking/drinking_11.avi  \n",
            "  inflating: test_dir/Test_Drinking/drinking_12.avi  \n",
            "  inflating: test_dir/Test_Drinking/drinking_13.avi  \n",
            "  inflating: test_dir/Test_Drinking/drinking_14.avi  \n",
            "  inflating: test_dir/Test_Drinking/drinking_15.avi  \n",
            "  inflating: test_dir/Test_Drinking/drinking_16.avi  \n",
            "  inflating: test_dir/Test_Drinking/drinking_17.avi  \n",
            "  inflating: test_dir/Test_Drinking/drinking_18.avi  \n",
            "  inflating: test_dir/Test_Drinking/drinking_19.avi  \n",
            "  inflating: test_dir/Test_Drinking/drinking_2.avi  \n",
            "  inflating: test_dir/Test_Drinking/drinking_20.avi  \n",
            "  inflating: test_dir/Test_Drinking/drinking_21.avi  \n",
            "  inflating: test_dir/Test_Drinking/drinking_22.avi  \n",
            "  inflating: test_dir/Test_Drinking/drinking_23.avi  \n",
            "  inflating: test_dir/Test_Drinking/drinking_24.avi  \n",
            "  inflating: test_dir/Test_Drinking/drinking_25.avi  \n",
            "  inflating: test_dir/Test_Drinking/drinking_26.avi  \n",
            "  inflating: test_dir/Test_Drinking/drinking_27.avi  \n",
            "  inflating: test_dir/Test_Drinking/drinking_28.avi  \n",
            "  inflating: test_dir/Test_Drinking/drinking_29.avi  \n",
            "  inflating: test_dir/Test_Drinking/drinking_3.avi  \n",
            "  inflating: test_dir/Test_Drinking/drinking_4.avi  \n",
            "  inflating: test_dir/Test_Drinking/drinking_5.avi  \n",
            "  inflating: test_dir/Test_Drinking/drinking_6.avi  \n",
            "  inflating: test_dir/Test_Drinking/drinking_7.avi  \n",
            "  inflating: test_dir/Test_Drinking/drinking_8.avi  \n",
            "  inflating: test_dir/Test_Drinking/drinking_9.avi  \n",
            "  inflating: test_dir/Test_Drinking/other_0.avi  \n",
            "  inflating: test_dir/Test_Drinking/other_1.avi  \n",
            "  inflating: test_dir/Test_Drinking/other_2.avi  \n",
            "  inflating: test_dir/Test_Drinking/other_3.avi  \n",
            "  inflating: test_dir/Test_Drinking/other_4.avi  \n",
            "  inflating: test_dir/Test_Drinking/other_5.avi  \n",
            "  inflating: test_dir/Test_Drinking/other_6.avi  \n",
            "  inflating: test_dir/Test_Drinking/other_7.avi  \n",
            "  inflating: test_dir/Test_Drinking/other_8.avi  \n",
            "  inflating: test_dir/Test_Drinking/other_9.avi  \n"
          ],
          "name": "stdout"
        }
      ]
    },
    {
      "cell_type": "code",
      "metadata": {
        "id": "EIno6QuubiF5"
      },
      "source": [
        "test_dir='/content/test_dir/Test_Drinking'\n",
        "frames_test='/content/frames_test'"
      ],
      "execution_count": null,
      "outputs": []
    },
    {
      "cell_type": "code",
      "metadata": {
        "id": "BPGa2m0PblWh",
        "colab": {
          "base_uri": "https://localhost:8080/"
        },
        "outputId": "53377fa6-eab5-4fff-880b-662f46616c27"
      },
      "source": [
        "#save the frames of all videos\n",
        "for i in range(len(os.listdir(test_dir))):\n",
        "    video_path = test_dir + '/' + os.listdir(test_dir)[i]\n",
        "    get_frames(video_path,frames_test)\n",
        "print(\"All frames written in the frame_dir Folder\")"
      ],
      "execution_count": null,
      "outputs": [
        {
          "output_type": "stream",
          "text": [
            "All frames written in the frame_dir Folder\n"
          ],
          "name": "stdout"
        }
      ]
    },
    {
      "cell_type": "code",
      "metadata": {
        "id": "uTS1Pvh1boJm"
      },
      "source": [
        "testing = get_train_data(frames_test + '/*.jpg')"
      ],
      "execution_count": null,
      "outputs": []
    },
    {
      "cell_type": "code",
      "metadata": {
        "id": "L4rakZJKbsco",
        "colab": {
          "base_uri": "https://localhost:8080/"
        },
        "outputId": "745dc25d-3a0b-4dda-902a-c5bba1ce796f"
      },
      "source": [
        "test_label =[]\n",
        "for file in os.listdir(frames_test):\n",
        "    label = file.split('_')[0]\n",
        "    if label == 'drinking':\n",
        "        test_label.append(1)\n",
        "    else:\n",
        "        test_label.append(0)\n",
        "print(len(test_label))"
      ],
      "execution_count": null,
      "outputs": [
        {
          "output_type": "stream",
          "text": [
            "400\n"
          ],
          "name": "stdout"
        }
      ]
    },
    {
      "cell_type": "code",
      "metadata": {
        "id": "8pC4DtrdbtIV",
        "colab": {
          "base_uri": "https://localhost:8080/"
        },
        "outputId": "fd0ddaac-6415-4c70-8179-87e493b251b3"
      },
      "source": [
        "vid_num=len(test_label)//frame_no_video\n",
        "X_test = np.asarray(testing)\n",
        "y_test = np.asarray(test_label)\n",
        "print(X_test.shape)\n",
        "print(y_test.shape)"
      ],
      "execution_count": null,
      "outputs": [
        {
          "output_type": "stream",
          "text": [
            "(400, 224, 224, 3)\n",
            "(400,)\n"
          ],
          "name": "stdout"
        }
      ]
    },
    {
      "cell_type": "code",
      "metadata": {
        "id": "nUvZ1Gf5bw_z",
        "colab": {
          "base_uri": "https://localhost:8080/"
        },
        "outputId": "a55635b7-970e-49aa-dee3-e434ff4d63cf"
      },
      "source": [
        "scores = model.evaluate(X_test, y_test)\n",
        "print(\"%s: %.2f%%\" % (model.metrics_names[1], scores[1]*100))"
      ],
      "execution_count": null,
      "outputs": [
        {
          "output_type": "stream",
          "text": [
            "13/13 [==============================] - 2s 117ms/step - loss: 0.7586 - acc: 0.7500\n",
            "acc: 75.00%\n"
          ],
          "name": "stdout"
        }
      ]
    },
    {
      "cell_type": "code",
      "metadata": {
        "id": "zz88NX_GgRid"
      },
      "source": [
        ""
      ],
      "execution_count": null,
      "outputs": []
    }
  ]
}