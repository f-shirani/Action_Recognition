{
  "nbformat": 4,
  "nbformat_minor": 0,
  "metadata": {
    "colab": {
      "name": "CSCE636_Test_3.ipynb",
      "provenance": [],
      "collapsed_sections": []
    },
    "kernelspec": {
      "name": "python3",
      "display_name": "Python 3"
    }
  },
  "cells": [
    {
      "cell_type": "code",
      "metadata": {
        "colab": {
          "base_uri": "https://localhost:8080/"
        },
        "id": "IiCfQUOQaqgt",
        "outputId": "2897cd62-fb7e-48c9-e488-aee3844d3116"
      },
      "source": [
        "!pip install pytube"
      ],
      "execution_count": 13,
      "outputs": [
        {
          "output_type": "stream",
          "text": [
            "Requirement already satisfied: pytube in /usr/local/lib/python3.7/dist-packages (10.7.2)\n"
          ],
          "name": "stdout"
        }
      ]
    },
    {
      "cell_type": "code",
      "metadata": {
        "id": "gA306GQPcjCi"
      },
      "source": [
        "import pytube\n",
        "import cv2\n",
        "import numpy as np"
      ],
      "execution_count": 14,
      "outputs": []
    },
    {
      "cell_type": "code",
      "metadata": {
        "colab": {
          "base_uri": "https://localhost:8080/"
        },
        "id": "QYJ6jqw9LGDj",
        "outputId": "691771ad-16fb-44ca-9319-2481725bd31b"
      },
      "source": [
        "from google.colab import drive\n",
        "drive.mount('/content/gdrive')"
      ],
      "execution_count": 4,
      "outputs": [
        {
          "output_type": "stream",
          "text": [
            "Drive already mounted at /content/gdrive; to attempt to forcibly remount, call drive.mount(\"/content/gdrive\", force_remount=True).\n"
          ],
          "name": "stdout"
        }
      ]
    },
    {
      "cell_type": "code",
      "metadata": {
        "id": "LspuW-QgKmP4"
      },
      "source": [
        "from tensorflow.keras.models import load_model\n",
        "model=load_model(\"/content/gdrive/MyDrive/model3.h5\")"
      ],
      "execution_count": 15,
      "outputs": []
    },
    {
      "cell_type": "code",
      "metadata": {
        "id": "YCi0pHmdKzBx",
        "colab": {
          "base_uri": "https://localhost:8080/"
        },
        "outputId": "63ebfbde-1d47-43d6-eec9-9e2b4583bba0"
      },
      "source": [
        "\n",
        "img_high=224\n",
        "img_width=224\n",
        "url=\"https://www.youtube.com/watch?v=H7WJcbiTatE\"\n",
        "yt= pytube.YouTube(url)\n",
        "vid_id=yt.video_id\n",
        "yt= yt.streams.first()\n",
        "video=yt.download()\n",
        "\n",
        "# capturing the video from the given path\n",
        "cap = cv2.VideoCapture(video)  \n",
        "total_frames = int(cap.get(7))\n",
        "\n",
        "\n",
        "#split youtube video to video clips of 2s\n",
        "clip_len =2\n",
        "frames=[]\n",
        "frame_rate = cap.get(5) # frames per second \n",
        "vid_len = int(total_frames/frame_rate) # video time  in seconds\n",
        "intervals = int(vid_len/clip_len) #how many video clips\n",
        "print(intervals,vid_id)\n",
        "frame_per_interval = total_frames //intervals #how many frames are in each clips\n",
        "frame_distance = frame_per_interval//10  # skip some frames \n",
        "\n",
        "frame_count = 0   # This variable keeps count of the total frames\n",
        "clip_count = 1\n",
        "frame_count_all=0\n",
        "frame_time=[]\n",
        "\n",
        "for i in range (total_frames): #iterating over all the frames of the video.\n",
        "      ret, frame = cap.read()\n",
        "      if ret ==False:  # Checking if the frame is missing, and if missing, we take the previous frame\n",
        "          frame = f_prev\n",
        "      elif ret==True:\n",
        "          f_prev =frame\n",
        "\n",
        "      frame_count_all +=1    \n",
        "      frame_count +=1\n",
        "    \n",
        "      if frame_count ==frame_distance:   \n",
        "          frame_count = 0\n",
        "          frame=cv2.resize(frame,(img_high,img_width),interpolation=cv2.INTER_AREA)\n",
        "          frames.append(frame)\n",
        "          frame_time.append(frame_count_all*(1/frame_rate))\n",
        "          \n",
        "        # when we reach to video clip length save the frames\n",
        "      if i == ((clip_count*frame_per_interval)-1):\n",
        "          inpt = np.array(frames)\n",
        "          inpt = inpt.astype('float32')\n",
        "          inpt -= np.mean(inpt)\n",
        "          inpt /=np.max(inpt)\n",
        "          \n",
        "          frames = []\n",
        "          p = model.predict(inpt)\n",
        "          prob = p[:][0][0]\n",
        "\n",
        "          # find the time of interval\n",
        "          min_s, sec_s = divmod(frame_time[0], 60)\n",
        "          start_time=str(\"%d:%02d\" % (min_s, sec_s) ) #Starting time of the interval\n",
        "          min_e, sec_e = divmod(frame_time[-1],60) \n",
        "          end_time= str(\"%d:%02d\" % (min_e, sec_e) )  # Ending time of the interval \n",
        "          frame_time=[]\n",
        "\n",
        "          if prob>=0.50:\n",
        "              print(prob,start_time,end_time)\n",
        "              \n",
        "          clip_count += 1 #next clip\n",
        "          \n",
        "          if cv2.waitKey(1) & 0xFF == ord('q'):\n",
        "              break\n",
        "cap.release()\n",
        "cv2.destroyAllWindows()"
      ],
      "execution_count": 16,
      "outputs": [
        {
          "output_type": "stream",
          "text": [
            "30 H7WJcbiTatE\n",
            "0.73235774 0:00 0:02\n",
            "0.7782864 0:18 0:20\n",
            "0.67563367 0:20 0:22\n",
            "0.6522707 0:22 0:24\n",
            "0.8382882 0:26 0:28\n",
            "0.884194 0:28 0:30\n",
            "0.66022956 0:30 0:32\n",
            "0.72672 0:32 0:34\n",
            "0.6163566 0:34 0:36\n",
            "0.5670189 0:36 0:38\n",
            "0.72977084 0:40 0:42\n",
            "0.8586043 0:50 0:52\n",
            "0.77797544 0:52 0:54\n",
            "0.7407974 0:54 0:56\n"
          ],
          "name": "stdout"
        }
      ]
    }
  ]
}