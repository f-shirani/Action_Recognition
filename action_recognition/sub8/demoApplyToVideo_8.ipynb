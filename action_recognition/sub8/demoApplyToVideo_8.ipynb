{
  "nbformat": 4,
  "nbformat_minor": 0,
  "metadata": {
    "colab": {
      "name": "demoApplyToVideo_8.ipynb",
      "provenance": [],
      "collapsed_sections": []
    },
    "kernelspec": {
      "name": "python3",
      "display_name": "Python 3"
    }
  },
  "cells": [
    {
      "cell_type": "code",
      "metadata": {
        "colab": {
          "base_uri": "https://localhost:8080/"
        },
        "id": "2G3ZUbYBDeVz",
        "outputId": "5a212e96-4c89-4831-ed28-d5baaba5f4fb"
      },
      "source": [
        "!pip install pytube"
      ],
      "execution_count": 1,
      "outputs": [
        {
          "output_type": "stream",
          "text": [
            "Collecting pytube\n",
            "\u001b[?25l  Downloading https://files.pythonhosted.org/packages/91/96/0cc31cb18fda662a5ae235dff33ad66dfbc94bf46f19e9e22cb1960b3253/pytube-10.7.2-py3-none-any.whl (42kB)\n",
            "\r\u001b[K     |███████▋                        | 10kB 16.7MB/s eta 0:00:01\r\u001b[K     |███████████████▎                | 20kB 23.0MB/s eta 0:00:01\r\u001b[K     |███████████████████████         | 30kB 20.1MB/s eta 0:00:01\r\u001b[K     |██████████████████████████████▌ | 40kB 20.6MB/s eta 0:00:01\r\u001b[K     |████████████████████████████████| 51kB 5.4MB/s \n",
            "\u001b[?25hInstalling collected packages: pytube\n",
            "Successfully installed pytube-10.7.2\n"
          ],
          "name": "stdout"
        }
      ]
    },
    {
      "cell_type": "code",
      "metadata": {
        "id": "impbaaeOB-vy"
      },
      "source": [
        "import keras\n",
        "from keras.preprocessing import image\n",
        "import numpy as np\n",
        "import pandas as pd\n",
        "from keras.models import load_model\n",
        "import cv2\n",
        "import json\n",
        "import pytube\n"
      ],
      "execution_count": 15,
      "outputs": []
    },
    {
      "cell_type": "code",
      "metadata": {
        "id": "O8G8ohiX9Svr",
        "colab": {
          "base_uri": "https://localhost:8080/"
        },
        "outputId": "2d041bc2-2e09-48af-8922-42e01be41c6f"
      },
      "source": [
        "\n",
        "from google.colab import drive\n",
        "drive.mount('/content/gdrive')"
      ],
      "execution_count": 3,
      "outputs": [
        {
          "output_type": "stream",
          "text": [
            "Mounted at /content/gdrive\n"
          ],
          "name": "stdout"
        }
      ]
    },
    {
      "cell_type": "code",
      "metadata": {
        "id": "4wuK5m3TDOUj"
      },
      "source": [
        "#load the model\n",
        "model=load_model('/content/gdrive/MyDrive/model8.h5')"
      ],
      "execution_count": 16,
      "outputs": []
    },
    {
      "cell_type": "code",
      "metadata": {
        "id": "FVeUw9MkpjHJ"
      },
      "source": [
        "img_high=200\n",
        "img_width=200\n",
        "frame_num_video=10"
      ],
      "execution_count": 17,
      "outputs": []
    },
    {
      "cell_type": "code",
      "metadata": {
        "id": "dOJ0fAieBb75",
        "colab": {
          "base_uri": "https://localhost:8080/"
        },
        "outputId": "5b5daa3f-6ed7-4510-a8b3-91c930c3faa3"
      },
      "source": [
        "# get the links of youtube videos from csv file\n",
        "\n",
        "df=[]\n",
        "nick_name=\"CSCE636Spring2021-Farry-8\"\n",
        "label=\"Hand Waving\"\n",
        "probs=[]\n",
        "times=[]\n",
        " \n",
        "url=\"https://www.youtube.com/watch?v=ytRFisCqQgA\"\n",
        "yt= pytube.YouTube(url)\n",
        "vid_id=yt.video_id\n",
        "yt= yt.streams.first()\n",
        "video=yt.download()\n",
        "\n",
        "# capturing the video from the given path\n",
        "cap = cv2.VideoCapture(video)  \n",
        "total_frames = int(cap.get(7))\n",
        "\n",
        "\n",
        "#split youtube video to video clips of 2s\n",
        "clip_len =2\n",
        "frames=[]\n",
        "frame_rate = cap.get(5) # frames per second \n",
        "vid_len = int(total_frames/frame_rate) # video time  in seconds\n",
        "intervals = int(vid_len/clip_len) #how many video clips\n",
        "print(intervals,vid_id)\n",
        "frame_per_interval = total_frames //intervals #how many frames are in each clips\n",
        "frame_distance = frame_per_interval//10  # skip some frames \n",
        "\n",
        "frame_count = 0   # This variable keeps count of the total frames\n",
        "clip_count = 1\n",
        "frame_count_all=0\n",
        "frame_time=[]\n",
        "\n",
        "for i in range (total_frames): #iterating over all the frames of the video.\n",
        "      ret, frame = cap.read()\n",
        "      if ret ==False:  # Checking if the frame is missing, and if missing, we take the previous frame\n",
        "          frame = f_prev\n",
        "      elif ret==True:\n",
        "          f_prev =frame\n",
        "\n",
        "      frame_count_all +=1    \n",
        "      frame_count +=1\n",
        "    \n",
        "      if frame_count ==frame_distance:   \n",
        "          frame_count = 0\n",
        "          frame=cv2.resize(frame,(img_high,img_width),interpolation=cv2.INTER_AREA)\n",
        "          frames.append(frame)\n",
        "          frame_time.append(frame_count_all*(1/frame_rate))\n",
        "          \n",
        "        # when we reach to video clip length save the frames\n",
        "      if i == ((clip_count*frame_per_interval)-1):\n",
        "          inpt = np.array(frames)\n",
        "          inpt = inpt.astype('float32')\n",
        "          inpt -= np.mean(inpt)\n",
        "          inpt /=np.max(inpt)\n",
        "          \n",
        "          frames = []\n",
        "          #  I just keep 10 frames to have the format of the model\n",
        "          inpt_shape = np.zeros((1, 10, img_high, img_width, 3))\n",
        "          inpt_shape[0][:][:][:][:] = inpt[:10][:][:][:]\n",
        "          p = model.predict(inpt_shape)\n",
        "          prob = p[:][0][0]\n",
        "       \n",
        "          \n",
        "          start_time=round(frame_time[0],2)\n",
        "          end_time=round(frame_time[-1],2) \n",
        "          probs.append(prob)\n",
        "          times.append(start_time)\n",
        "          frame_time=[]\n",
        "     \n",
        "          if prob>=0.60:\n",
        "              print(prob,start_time,end_time)\n",
        "              data= {\"videoId\":vid_id,\n",
        "                      \"type\":\"segment\",\n",
        "                      \"startTime\":float(start_time),\n",
        "                      \"endTime\":float(end_time),\n",
        "                      \"observer\":nick_name,\n",
        "                      \"isHuman\":False,\n",
        "                      \"confirmedBySomeone\": False,\n",
        "                      \"rejectedBySomeone\": False,\"observation\":{\"label\": label,\"labelConfidence\": 0.85}}\n",
        "              df.append(data)\n",
        "              \n",
        "          clip_count += 1 #next clip\n",
        "          \n",
        "          if cv2.waitKey(1) & 0xFF == ord('q'):\n",
        "              break\n",
        "cap.release()\n",
        "cv2.destroyAllWindows()\n"
      ],
      "execution_count": 18,
      "outputs": [
        {
          "output_type": "stream",
          "text": [
            "142 ytRFisCqQgA\n",
            "0.9826762 10.21 12.01\n",
            "0.9960314 12.21 14.01\n",
            "0.62293553 20.22 22.02\n",
            "0.61801136 48.25 50.05\n",
            "0.7480911 96.3 98.1\n",
            "0.9850522 98.3 100.1\n",
            "0.628639 152.35 154.15\n",
            "0.8817773 214.41 216.22\n",
            "0.84246695 216.42 218.22\n",
            "0.8789879 218.42 220.22\n",
            "0.6090981 278.48 280.28\n",
            "0.6142408 280.48 282.28\n",
            "0.6137885 282.48 284.28\n"
          ],
          "name": "stdout"
        }
      ]
    },
    {
      "cell_type": "code",
      "metadata": {
        "colab": {
          "base_uri": "https://localhost:8080/",
          "height": 330
        },
        "id": "0o9tkFY4JrZR",
        "outputId": "3a58a1a2-8415-409c-8275-aac8338a94eb"
      },
      "source": [
        "import matplotlib.pyplot as plt \n",
        "\n",
        "plt.plot(times, probs)\n",
        "plt.title('Prediction of video clips')\n",
        "plt.ylabel('prediction')\n",
        "plt.xlabel('time(seconds)')\n",
        "plt.legend()"
      ],
      "execution_count": 19,
      "outputs": [
        {
          "output_type": "stream",
          "text": [
            "No handles with labels found to put in legend.\n"
          ],
          "name": "stderr"
        },
        {
          "output_type": "execute_result",
          "data": {
            "text/plain": [
              "<matplotlib.legend.Legend at 0x7f16c3fa3dd0>"
            ]
          },
          "metadata": {
            "tags": []
          },
          "execution_count": 19
        },
        {
          "output_type": "display_data",
          "data": {
            "image/png": "[encoded data removed]",
            "text/plain": [
              "<Figure size 432x288 with 1 Axes>"
            ]
          },
          "metadata": {
            "tags": [],
            "needs_background": "light"
          }
        }
      ]
    },
    {
      "cell_type": "code",
      "metadata": {
        "id": "Vy8wlpUE8I1e"
      },
      "source": [
        "import os\n",
        "json_dir='/content/gdrive/MyDrive'\n",
        "filename=\"CSCE636Spring2021-Farry-8.json\"\n",
        "with open(os.path.join(json_dir,filename), 'w',encoding='utf-8') as f:\n",
        "     json.dump(df, f,ensure_ascii=False, indent=4)\n",
        "   "
      ],
      "execution_count": 20,
      "outputs": []
    }
  ]
}