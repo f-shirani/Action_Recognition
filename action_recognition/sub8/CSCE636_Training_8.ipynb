{
  "nbformat": 4,
  "nbformat_minor": 0,
  "metadata": {
    "colab": {
      "name": "CSCE636_Training_8.ipynb",
      "provenance": [],
      "collapsed_sections": []
    },
    "kernelspec": {
      "name": "python3",
      "display_name": "Python 3"
    },
    "language_info": {
      "name": "python"
    },
    "accelerator": "GPU"
  },
  "cells": [
    {
      "cell_type": "code",
      "metadata": {
        "id": "S8CAM5_2gapw"
      },
      "source": [
        "import pandas as pd\n",
        "from keras.preprocessing import image   # for preprocessing the images\n",
        "from sklearn.model_selection import train_test_split\n",
        "from keras.utils import to_categorical\n",
        "from keras.preprocessing.image import ImageDataGenerator\n",
        "from keras import optimizers\n",
        "from keras import models\n",
        "from keras import layers\n",
        "from keras.layers import TimeDistributed, Conv2D, Dense, MaxPooling2D, Flatten, LSTM, Dropout, BatchNormalization\n",
        "from keras.layers import Conv3D, MaxPooling3D, BatchNormalization, Dropout, Dense, Flatten, concatenate\n",
        "from keras.models import Model\n",
        "from keras import Input\n",
        "from keras.utils.vis_utils import plot_model\n",
        "import matplotlib.pyplot as plt    \n",
        "%matplotlib inline\n",
        "import numpy as np\n",
        "import os\n",
        "import glob\n",
        "import cv2"
      ],
      "execution_count": null,
      "outputs": []
    },
    {
      "cell_type": "code",
      "metadata": {
        "colab": {
          "base_uri": "https://localhost:8080/"
        },
        "id": "7t8MfBHbgokN",
        "outputId": "bf3f1ccb-daeb-4a66-aa97-396f7077fed2"
      },
      "source": [
        "from google.colab import drive\n",
        "\n",
        "drive.mount('/content/gdrive')"
      ],
      "execution_count": null,
      "outputs": [
        {
          "output_type": "stream",
          "text": [
            "Mounted at /content/gdrive\n"
          ],
          "name": "stdout"
        }
      ]
    },
    {
      "cell_type": "code",
      "metadata": {
        "id": "3-kGseyAgr48",
        "colab": {
          "base_uri": "https://localhost:8080/"
        },
        "outputId": "60a4de36-615c-47b3-e972-5dc9c681980a"
      },
      "source": [
        "\n",
        "! mkdir train_dir\n",
        "! unzip '/content/gdrive/MyDrive/Training_Waiving' -d train_dir"
      ],
      "execution_count": null,
      "outputs": [
        {
          "output_type": "stream",
          "text": [
            "mkdir: cannot create directory ‘train_dir’: File exists\n",
            "Archive:  /content/gdrive/MyDrive/Training_Waiving.zip\n",
            "   creating: train_dir/Training/\n",
            "  inflating: train_dir/Training/other_0.avi  \n",
            "  inflating: train_dir/Training/other_1.avi  \n",
            "  inflating: train_dir/Training/other_10.avi  \n",
            "  inflating: train_dir/Training/other_11.avi  \n",
            "  inflating: train_dir/Training/other_12.avi  \n",
            "  inflating: train_dir/Training/other_13.avi  \n",
            "  inflating: train_dir/Training/other_14.avi  \n",
            "  inflating: train_dir/Training/other_15.avi  \n",
            "  inflating: train_dir/Training/other_16.avi  \n",
            "  inflating: train_dir/Training/other_17.avi  \n",
            "  inflating: train_dir/Training/other_18.avi  \n",
            "  inflating: train_dir/Training/other_19.avi  \n",
            "  inflating: train_dir/Training/other_2.avi  \n",
            "  inflating: train_dir/Training/other_20.avi  \n",
            "  inflating: train_dir/Training/other_21.avi  \n",
            "  inflating: train_dir/Training/other_22.avi  \n",
            "  inflating: train_dir/Training/other_23.avi  \n",
            "  inflating: train_dir/Training/other_24.avi  \n",
            "  inflating: train_dir/Training/other_25.avi  \n",
            "  inflating: train_dir/Training/other_26.avi  \n",
            "  inflating: train_dir/Training/other_27.avi  \n",
            "  inflating: train_dir/Training/other_28.avi  \n",
            "  inflating: train_dir/Training/other_29.avi  \n",
            "  inflating: train_dir/Training/other_3.avi  \n",
            "  inflating: train_dir/Training/other_30.avi  \n",
            "  inflating: train_dir/Training/other_31.avi  \n",
            "  inflating: train_dir/Training/other_32.avi  \n",
            "  inflating: train_dir/Training/other_33.avi  \n",
            "  inflating: train_dir/Training/other_34.avi  \n",
            "  inflating: train_dir/Training/other_35.avi  \n",
            "  inflating: train_dir/Training/other_36.avi  \n",
            "  inflating: train_dir/Training/other_37.avi  \n",
            "  inflating: train_dir/Training/other_38.avi  \n",
            "  inflating: train_dir/Training/other_39.avi  \n",
            "  inflating: train_dir/Training/other_4.avi  \n",
            "  inflating: train_dir/Training/other_5.avi  \n",
            "  inflating: train_dir/Training/other_6.avi  \n",
            "  inflating: train_dir/Training/other_7.avi  \n",
            "  inflating: train_dir/Training/other_8.avi  \n",
            "  inflating: train_dir/Training/other_9.avi  \n",
            "  inflating: train_dir/Training/waving_0.avi  \n",
            "  inflating: train_dir/Training/waving_1.avi  \n",
            "  inflating: train_dir/Training/waving_10.avi  \n",
            "  inflating: train_dir/Training/waving_11.avi  \n",
            "  inflating: train_dir/Training/waving_12.avi  \n",
            "  inflating: train_dir/Training/waving_13.avi  \n",
            "  inflating: train_dir/Training/waving_14.avi  \n",
            "  inflating: train_dir/Training/waving_15.avi  \n",
            "  inflating: train_dir/Training/waving_16.avi  \n",
            "  inflating: train_dir/Training/waving_17.avi  \n",
            "  inflating: train_dir/Training/waving_18.avi  \n",
            "  inflating: train_dir/Training/waving_19.avi  \n",
            "  inflating: train_dir/Training/waving_2.avi  \n",
            "  inflating: train_dir/Training/waving_20.avi  \n",
            "  inflating: train_dir/Training/waving_21.avi  \n",
            "  inflating: train_dir/Training/waving_22.avi  \n",
            "  inflating: train_dir/Training/waving_23.avi  \n",
            "  inflating: train_dir/Training/waving_24.avi  \n",
            "  inflating: train_dir/Training/waving_25.avi  \n",
            "  inflating: train_dir/Training/waving_26.avi  \n",
            "  inflating: train_dir/Training/waving_27.avi  \n",
            "  inflating: train_dir/Training/waving_28.avi  \n",
            "  inflating: train_dir/Training/waving_29.avi  \n",
            "  inflating: train_dir/Training/waving_3.avi  \n",
            "  inflating: train_dir/Training/waving_30.avi  \n",
            "  inflating: train_dir/Training/waving_31.avi  \n",
            "  inflating: train_dir/Training/waving_32.avi  \n",
            "  inflating: train_dir/Training/waving_33.avi  \n",
            "  inflating: train_dir/Training/waving_34.avi  \n",
            "  inflating: train_dir/Training/waving_35.avi  \n",
            "  inflating: train_dir/Training/waving_36.avi  \n",
            "  inflating: train_dir/Training/waving_37.avi  \n",
            "  inflating: train_dir/Training/waving_38.avi  \n",
            "  inflating: train_dir/Training/waving_39.avi  \n",
            "  inflating: train_dir/Training/waving_4.avi  \n",
            "  inflating: train_dir/Training/waving_40.avi  \n",
            "  inflating: train_dir/Training/waving_41.avi  \n",
            "  inflating: train_dir/Training/waving_42.avi  \n",
            "  inflating: train_dir/Training/waving_43.avi  \n",
            "  inflating: train_dir/Training/waving_44.avi  \n",
            "  inflating: train_dir/Training/waving_45.avi  \n",
            "  inflating: train_dir/Training/waving_46.avi  \n",
            "  inflating: train_dir/Training/waving_47.avi  \n",
            "  inflating: train_dir/Training/waving_48.avi  \n",
            "  inflating: train_dir/Training/waving_49.avi  \n",
            "  inflating: train_dir/Training/waving_5.avi  \n",
            "  inflating: train_dir/Training/waving_50.avi  \n",
            "  inflating: train_dir/Training/waving_51.avi  \n",
            "  inflating: train_dir/Training/waving_52.avi  \n",
            "  inflating: train_dir/Training/waving_53.avi  \n",
            "  inflating: train_dir/Training/waving_54.avi  \n",
            "  inflating: train_dir/Training/waving_55.avi  \n",
            "  inflating: train_dir/Training/waving_56.avi  \n",
            "  inflating: train_dir/Training/waving_57.avi  \n",
            "  inflating: train_dir/Training/waving_58.avi  \n",
            "  inflating: train_dir/Training/waving_59.avi  \n",
            "  inflating: train_dir/Training/waving_6.avi  \n",
            "  inflating: train_dir/Training/waving_7.avi  \n",
            "  inflating: train_dir/Training/waving_8.avi  \n",
            "  inflating: train_dir/Training/waving_9.avi  \n"
          ],
          "name": "stdout"
        }
      ]
    },
    {
      "cell_type": "code",
      "metadata": {
        "id": "UxfG7R7-VeSp",
        "colab": {
          "base_uri": "https://localhost:8080/",
          "height": 1000
        },
        "outputId": "fe695b89-6185-4652-9d6e-096f2bd11726"
      },
      "source": [
        "video_directory=\"/content/train_dir/Training\"\n",
        "videos=os.listdir(video_directory)\n",
        "label=[]\n",
        "for i in videos:\n",
        "    if \"other_\" in i:\n",
        "        label.append(0)\n",
        "    else: \n",
        "        label.append(1)\n",
        "       \n",
        "videos=pd.DataFrame(videos,label).reset_index()\n",
        "videos.columns=[\"labels\",\"video_name\"]\n",
        "\n",
        "# 40% videos for validation and 60% for training\n",
        "other=videos.loc[videos[\"labels\"]==0,]\n",
        "waiving=videos.loc[videos[\"labels\"]==1,]\n",
        "\n",
        "other_range=np.arange(len(other))\n",
        "waiving_range=np.arange(len(waiving))\n",
        "np.random.seed(12)\n",
        "np.random.shuffle(other_range)\n",
        "np.random.shuffle(waiving_range)\n",
        "\n",
        "waiving=waiving.iloc[waiving_range,]\n",
        "other=other.iloc[other_range,]\n",
        "\n",
        "train_waiving=waiving.iloc[:36,]\n",
        "train_other=other.iloc[:24,]\n",
        "valid_waiving=waiving.iloc[36:,]\n",
        "valid_other=other.iloc[24:,]\n",
        "\n",
        "train_set=train_waiving.append(train_other)\n",
        "valid_set=valid_waiving.append(valid_other)\n",
        "\n",
        "train_set=train_set.reset_index().drop(\"index\",axis=1)\n",
        "valid_set=valid_set.reset_index().drop(\"index\",axis=1)\n",
        "train_set"
      ],
      "execution_count": null,
      "outputs": [
        {
          "output_type": "execute_result",
          "data": {
            "text/html": [
              "<div>\n",
              "<style scoped>\n",
              "    .dataframe tbody tr th:only-of-type {\n",
              "        vertical-align: middle;\n",
              "    }\n",
              "\n",
              "    .dataframe tbody tr th {\n",
              "        vertical-align: top;\n",
              "    }\n",
              "\n",
              "    .dataframe thead th {\n",
              "        text-align: right;\n",
              "    }\n",
              "</style>\n",
              "<table border=\"1\" class=\"dataframe\">\n",
              "  <thead>\n",
              "    <tr style=\"text-align: right;\">\n",
              "      <th></th>\n",
              "      <th>labels</th>\n",
              "      <th>video_name</th>\n",
              "    </tr>\n",
              "  </thead>\n",
              "  <tbody>\n",
              "    <tr>\n",
              "      <th>0</th>\n",
              "      <td>1</td>\n",
              "      <td>waving_16.avi</td>\n",
              "    </tr>\n",
              "    <tr>\n",
              "      <th>1</th>\n",
              "      <td>1</td>\n",
              "      <td>waving_50.avi</td>\n",
              "    </tr>\n",
              "    <tr>\n",
              "      <th>2</th>\n",
              "      <td>1</td>\n",
              "      <td>waving_47.avi</td>\n",
              "    </tr>\n",
              "    <tr>\n",
              "      <th>3</th>\n",
              "      <td>1</td>\n",
              "      <td>waving_26.avi</td>\n",
              "    </tr>\n",
              "    <tr>\n",
              "      <th>4</th>\n",
              "      <td>1</td>\n",
              "      <td>waving_10.avi</td>\n",
              "    </tr>\n",
              "    <tr>\n",
              "      <th>5</th>\n",
              "      <td>1</td>\n",
              "      <td>waving_4.avi</td>\n",
              "    </tr>\n",
              "    <tr>\n",
              "      <th>6</th>\n",
              "      <td>1</td>\n",
              "      <td>waving_46.avi</td>\n",
              "    </tr>\n",
              "    <tr>\n",
              "      <th>7</th>\n",
              "      <td>1</td>\n",
              "      <td>waving_32.avi</td>\n",
              "    </tr>\n",
              "    <tr>\n",
              "      <th>8</th>\n",
              "      <td>1</td>\n",
              "      <td>waving_37.avi</td>\n",
              "    </tr>\n",
              "    <tr>\n",
              "      <th>9</th>\n",
              "      <td>1</td>\n",
              "      <td>waving_48.avi</td>\n",
              "    </tr>\n",
              "    <tr>\n",
              "      <th>10</th>\n",
              "      <td>1</td>\n",
              "      <td>waving_8.avi</td>\n",
              "    </tr>\n",
              "    <tr>\n",
              "      <th>11</th>\n",
              "      <td>1</td>\n",
              "      <td>waving_25.avi</td>\n",
              "    </tr>\n",
              "    <tr>\n",
              "      <th>12</th>\n",
              "      <td>1</td>\n",
              "      <td>waving_19.avi</td>\n",
              "    </tr>\n",
              "    <tr>\n",
              "      <th>13</th>\n",
              "      <td>1</td>\n",
              "      <td>waving_17.avi</td>\n",
              "    </tr>\n",
              "    <tr>\n",
              "      <th>14</th>\n",
              "      <td>1</td>\n",
              "      <td>waving_56.avi</td>\n",
              "    </tr>\n",
              "    <tr>\n",
              "      <th>15</th>\n",
              "      <td>1</td>\n",
              "      <td>waving_58.avi</td>\n",
              "    </tr>\n",
              "    <tr>\n",
              "      <th>16</th>\n",
              "      <td>1</td>\n",
              "      <td>waving_35.avi</td>\n",
              "    </tr>\n",
              "    <tr>\n",
              "      <th>17</th>\n",
              "      <td>1</td>\n",
              "      <td>waving_45.avi</td>\n",
              "    </tr>\n",
              "    <tr>\n",
              "      <th>18</th>\n",
              "      <td>1</td>\n",
              "      <td>waving_0.avi</td>\n",
              "    </tr>\n",
              "    <tr>\n",
              "      <th>19</th>\n",
              "      <td>1</td>\n",
              "      <td>waving_7.avi</td>\n",
              "    </tr>\n",
              "    <tr>\n",
              "      <th>20</th>\n",
              "      <td>1</td>\n",
              "      <td>waving_1.avi</td>\n",
              "    </tr>\n",
              "    <tr>\n",
              "      <th>21</th>\n",
              "      <td>1</td>\n",
              "      <td>waving_41.avi</td>\n",
              "    </tr>\n",
              "    <tr>\n",
              "      <th>22</th>\n",
              "      <td>1</td>\n",
              "      <td>waving_11.avi</td>\n",
              "    </tr>\n",
              "    <tr>\n",
              "      <th>23</th>\n",
              "      <td>1</td>\n",
              "      <td>waving_31.avi</td>\n",
              "    </tr>\n",
              "    <tr>\n",
              "      <th>24</th>\n",
              "      <td>1</td>\n",
              "      <td>waving_44.avi</td>\n",
              "    </tr>\n",
              "    <tr>\n",
              "      <th>25</th>\n",
              "      <td>1</td>\n",
              "      <td>waving_6.avi</td>\n",
              "    </tr>\n",
              "    <tr>\n",
              "      <th>26</th>\n",
              "      <td>1</td>\n",
              "      <td>waving_28.avi</td>\n",
              "    </tr>\n",
              "    <tr>\n",
              "      <th>27</th>\n",
              "      <td>1</td>\n",
              "      <td>waving_23.avi</td>\n",
              "    </tr>\n",
              "    <tr>\n",
              "      <th>28</th>\n",
              "      <td>1</td>\n",
              "      <td>waving_5.avi</td>\n",
              "    </tr>\n",
              "    <tr>\n",
              "      <th>29</th>\n",
              "      <td>1</td>\n",
              "      <td>waving_13.avi</td>\n",
              "    </tr>\n",
              "    <tr>\n",
              "      <th>30</th>\n",
              "      <td>1</td>\n",
              "      <td>waving_40.avi</td>\n",
              "    </tr>\n",
              "    <tr>\n",
              "      <th>31</th>\n",
              "      <td>1</td>\n",
              "      <td>waving_49.avi</td>\n",
              "    </tr>\n",
              "    <tr>\n",
              "      <th>32</th>\n",
              "      <td>1</td>\n",
              "      <td>waving_18.avi</td>\n",
              "    </tr>\n",
              "    <tr>\n",
              "      <th>33</th>\n",
              "      <td>1</td>\n",
              "      <td>waving_21.avi</td>\n",
              "    </tr>\n",
              "    <tr>\n",
              "      <th>34</th>\n",
              "      <td>1</td>\n",
              "      <td>waving_42.avi</td>\n",
              "    </tr>\n",
              "    <tr>\n",
              "      <th>35</th>\n",
              "      <td>1</td>\n",
              "      <td>waving_14.avi</td>\n",
              "    </tr>\n",
              "    <tr>\n",
              "      <th>36</th>\n",
              "      <td>0</td>\n",
              "      <td>other_11.avi</td>\n",
              "    </tr>\n",
              "    <tr>\n",
              "      <th>37</th>\n",
              "      <td>0</td>\n",
              "      <td>other_2.avi</td>\n",
              "    </tr>\n",
              "    <tr>\n",
              "      <th>38</th>\n",
              "      <td>0</td>\n",
              "      <td>other_7.avi</td>\n",
              "    </tr>\n",
              "    <tr>\n",
              "      <th>39</th>\n",
              "      <td>0</td>\n",
              "      <td>other_19.avi</td>\n",
              "    </tr>\n",
              "    <tr>\n",
              "      <th>40</th>\n",
              "      <td>0</td>\n",
              "      <td>other_0.avi</td>\n",
              "    </tr>\n",
              "    <tr>\n",
              "      <th>41</th>\n",
              "      <td>0</td>\n",
              "      <td>other_8.avi</td>\n",
              "    </tr>\n",
              "    <tr>\n",
              "      <th>42</th>\n",
              "      <td>0</td>\n",
              "      <td>other_22.avi</td>\n",
              "    </tr>\n",
              "    <tr>\n",
              "      <th>43</th>\n",
              "      <td>0</td>\n",
              "      <td>other_18.avi</td>\n",
              "    </tr>\n",
              "    <tr>\n",
              "      <th>44</th>\n",
              "      <td>0</td>\n",
              "      <td>other_4.avi</td>\n",
              "    </tr>\n",
              "    <tr>\n",
              "      <th>45</th>\n",
              "      <td>0</td>\n",
              "      <td>other_20.avi</td>\n",
              "    </tr>\n",
              "    <tr>\n",
              "      <th>46</th>\n",
              "      <td>0</td>\n",
              "      <td>other_24.avi</td>\n",
              "    </tr>\n",
              "    <tr>\n",
              "      <th>47</th>\n",
              "      <td>0</td>\n",
              "      <td>other_37.avi</td>\n",
              "    </tr>\n",
              "    <tr>\n",
              "      <th>48</th>\n",
              "      <td>0</td>\n",
              "      <td>other_16.avi</td>\n",
              "    </tr>\n",
              "    <tr>\n",
              "      <th>49</th>\n",
              "      <td>0</td>\n",
              "      <td>other_27.avi</td>\n",
              "    </tr>\n",
              "    <tr>\n",
              "      <th>50</th>\n",
              "      <td>0</td>\n",
              "      <td>other_32.avi</td>\n",
              "    </tr>\n",
              "    <tr>\n",
              "      <th>51</th>\n",
              "      <td>0</td>\n",
              "      <td>other_14.avi</td>\n",
              "    </tr>\n",
              "    <tr>\n",
              "      <th>52</th>\n",
              "      <td>0</td>\n",
              "      <td>other_36.avi</td>\n",
              "    </tr>\n",
              "    <tr>\n",
              "      <th>53</th>\n",
              "      <td>0</td>\n",
              "      <td>other_34.avi</td>\n",
              "    </tr>\n",
              "    <tr>\n",
              "      <th>54</th>\n",
              "      <td>0</td>\n",
              "      <td>other_12.avi</td>\n",
              "    </tr>\n",
              "    <tr>\n",
              "      <th>55</th>\n",
              "      <td>0</td>\n",
              "      <td>other_35.avi</td>\n",
              "    </tr>\n",
              "    <tr>\n",
              "      <th>56</th>\n",
              "      <td>0</td>\n",
              "      <td>other_30.avi</td>\n",
              "    </tr>\n",
              "    <tr>\n",
              "      <th>57</th>\n",
              "      <td>0</td>\n",
              "      <td>other_39.avi</td>\n",
              "    </tr>\n",
              "    <tr>\n",
              "      <th>58</th>\n",
              "      <td>0</td>\n",
              "      <td>other_21.avi</td>\n",
              "    </tr>\n",
              "    <tr>\n",
              "      <th>59</th>\n",
              "      <td>0</td>\n",
              "      <td>other_15.avi</td>\n",
              "    </tr>\n",
              "  </tbody>\n",
              "</table>\n",
              "</div>"
            ],
            "text/plain": [
              "    labels     video_name\n",
              "0        1  waving_16.avi\n",
              "1        1  waving_50.avi\n",
              "2        1  waving_47.avi\n",
              "3        1  waving_26.avi\n",
              "4        1  waving_10.avi\n",
              "5        1   waving_4.avi\n",
              "6        1  waving_46.avi\n",
              "7        1  waving_32.avi\n",
              "8        1  waving_37.avi\n",
              "9        1  waving_48.avi\n",
              "10       1   waving_8.avi\n",
              "11       1  waving_25.avi\n",
              "12       1  waving_19.avi\n",
              "13       1  waving_17.avi\n",
              "14       1  waving_56.avi\n",
              "15       1  waving_58.avi\n",
              "16       1  waving_35.avi\n",
              "17       1  waving_45.avi\n",
              "18       1   waving_0.avi\n",
              "19       1   waving_7.avi\n",
              "20       1   waving_1.avi\n",
              "21       1  waving_41.avi\n",
              "22       1  waving_11.avi\n",
              "23       1  waving_31.avi\n",
              "24       1  waving_44.avi\n",
              "25       1   waving_6.avi\n",
              "26       1  waving_28.avi\n",
              "27       1  waving_23.avi\n",
              "28       1   waving_5.avi\n",
              "29       1  waving_13.avi\n",
              "30       1  waving_40.avi\n",
              "31       1  waving_49.avi\n",
              "32       1  waving_18.avi\n",
              "33       1  waving_21.avi\n",
              "34       1  waving_42.avi\n",
              "35       1  waving_14.avi\n",
              "36       0   other_11.avi\n",
              "37       0    other_2.avi\n",
              "38       0    other_7.avi\n",
              "39       0   other_19.avi\n",
              "40       0    other_0.avi\n",
              "41       0    other_8.avi\n",
              "42       0   other_22.avi\n",
              "43       0   other_18.avi\n",
              "44       0    other_4.avi\n",
              "45       0   other_20.avi\n",
              "46       0   other_24.avi\n",
              "47       0   other_37.avi\n",
              "48       0   other_16.avi\n",
              "49       0   other_27.avi\n",
              "50       0   other_32.avi\n",
              "51       0   other_14.avi\n",
              "52       0   other_36.avi\n",
              "53       0   other_34.avi\n",
              "54       0   other_12.avi\n",
              "55       0   other_35.avi\n",
              "56       0   other_30.avi\n",
              "57       0   other_39.avi\n",
              "58       0   other_21.avi\n",
              "59       0   other_15.avi"
            ]
          },
          "metadata": {
            "tags": []
          },
          "execution_count": 116
        }
      ]
    },
    {
      "cell_type": "code",
      "metadata": {
        "colab": {
          "base_uri": "https://localhost:8080/"
        },
        "id": "4WQBtC7xnRWZ",
        "outputId": "d70e112d-6770-4a89-b439-dfbc3fb3669d"
      },
      "source": [
        "\n",
        "train_label=train_set[\"labels\"]\n",
        "valid_label=valid_set[\"labels\"]\n",
        "print(len(valid_set))\n",
        "print(len(train_label))\n"
      ],
      "execution_count": null,
      "outputs": [
        {
          "output_type": "stream",
          "text": [
            "40\n",
            "60\n"
          ],
          "name": "stdout"
        }
      ]
    },
    {
      "cell_type": "code",
      "metadata": {
        "id": "ZYq7fYHZ5uAX"
      },
      "source": [
        "# !rm -rf frame_valid\n",
        "# !rm -rf frame_train"
      ],
      "execution_count": null,
      "outputs": []
    },
    {
      "cell_type": "code",
      "metadata": {
        "id": "8ZAMZcKcgxiM",
        "colab": {
          "base_uri": "https://localhost:8080/"
        },
        "outputId": "7e8cfac3-6301-49a8-d3d0-11d99d61ab1a"
      },
      "source": [
        "# ! mkdir frame_dir\n",
        "! mkdir frame_train\n",
        "! mkdir frame_valid"
      ],
      "execution_count": null,
      "outputs": [
        {
          "output_type": "stream",
          "text": [
            "mkdir: cannot create directory ‘frame_train’: File exists\n",
            "mkdir: cannot create directory ‘frame_valid’: File exists\n"
          ],
          "name": "stdout"
        }
      ]
    },
    {
      "cell_type": "code",
      "metadata": {
        "id": "ehptr4G5g0cL"
      },
      "source": [
        "#fuction gets the video and save the frames of videos to .jpg format\n",
        "def get_frames(dataset, dest_path):\n",
        "    for i in np.arange(len(dataset)):\n",
        "          video_name=dataset.video_name[i]\n",
        "          video_path=os.path.join(video_directory,video_name)\n",
        "          file_name = video_path.split('.')[0].split('/')[-1]\n",
        "          cap= cv2.VideoCapture(video_path)\n",
        "          total_frames = int(cap.get(7))\n",
        "          frame_rate = cap.get(5)\n",
        "          # print(file_name,total_frames,frame_rate)\n",
        "          frame_distance = total_frames//10\n",
        "          \n",
        "          count=0\n",
        "          frame_count=0\n",
        "          for i in range (total_frames): #iterating over all the frames of the video.\n",
        "              ret, frame = cap.read()\n",
        "              if ret ==False:  # Checking if the frame is missing, and if missing, we take the previous frame\n",
        "                  frame = f_prev\n",
        "              elif ret==True:\n",
        "                  f_prev =frame\n",
        "              frame_count +=1\n",
        "              if ((frame_count ==(frame_distance)) and (count<10)):\n",
        "                  frame_count = 0\n",
        "                  cv2.imwrite(dest_path+'/'+file_name+'_'+ str(count)+\".jpg\",frame)\n",
        "                  count +=1\n",
        "    cap.release()\n",
        "    return print(\"All frames written in the  \"+dest_path)"
      ],
      "execution_count": null,
      "outputs": []
    },
    {
      "cell_type": "code",
      "metadata": {
        "colab": {
          "base_uri": "https://localhost:8080/"
        },
        "id": "3qRqQh1M7Ua-",
        "outputId": "bcdce987-52ac-46a9-8d65-130b01ca3a36"
      },
      "source": [
        "frame_train='/content/frame_train'\n",
        "frame_valid='/content/frame_valid'\n",
        "get_frames(train_set,frame_train)\n",
        "get_frames(valid_set,frame_valid)\n",
        "print(len(os.listdir(frame_valid)))"
      ],
      "execution_count": null,
      "outputs": [
        {
          "output_type": "stream",
          "text": [
            "All frames written in the  /content/frame_train\n",
            "All frames written in the  /content/frame_valid\n",
            "400\n"
          ],
          "name": "stdout"
        }
      ]
    },
    {
      "cell_type": "code",
      "metadata": {
        "id": "rtJeXPeOg-Qi"
      },
      "source": [
        "img_high=200\n",
        "img_width=200\n",
        "frame_no_video=10"
      ],
      "execution_count": null,
      "outputs": []
    },
    {
      "cell_type": "code",
      "metadata": {
        "id": "Pd-tUqJag_A4"
      },
      "source": [
        "def get_train_data(file_name):\n",
        "    training = []\n",
        "    frames_to_select=[]\n",
        "    for i , filename in enumerate(glob.glob(file_name)):\n",
        "\n",
        "        image = cv2.imread(filename)\n",
        "        img = cv2.resize(image, dsize=(img_high,img_width), interpolation=cv2.INTER_CUBIC)\n",
        "        # normalizing the pixel value\n",
        "        img = img/255\n",
        "        training.append(img)\n",
        "    return training\n"
      ],
      "execution_count": null,
      "outputs": []
    },
    {
      "cell_type": "code",
      "metadata": {
        "id": "AucPE_eEhDi1"
      },
      "source": [
        "training = get_train_data(frame_train + '/*.jpg')\n",
        "validation = get_train_data(frame_valid + '/*.jpg')"
      ],
      "execution_count": null,
      "outputs": []
    },
    {
      "cell_type": "code",
      "metadata": {
        "id": "dNgZ7O93qxcC"
      },
      "source": [
        "x_train=np.array(training)\n",
        "x_valid=np.array(validation)\n",
        "y_train= np.array(train_label)\n",
        "y_valid=np.array(valid_label)"
      ],
      "execution_count": null,
      "outputs": []
    },
    {
      "cell_type": "code",
      "metadata": {
        "id": "BcqRc41lJOOy",
        "colab": {
          "base_uri": "https://localhost:8080/"
        },
        "outputId": "28b23a77-4f30-487d-d9ec-187a2cfa5b71"
      },
      "source": [
        "x_train=x_train.reshape(x_train.shape[0]//10,10,200, 200, 3)\n",
        "x_valid=x_valid.reshape(x_valid.shape[0]//10,10,200, 200, 3)\n",
        "print(x_train.shape)\n",
        "print(x_valid.shape)"
      ],
      "execution_count": null,
      "outputs": [
        {
          "output_type": "stream",
          "text": [
            "(60, 10, 200, 200, 3)\n",
            "(40, 10, 200, 200, 3)\n"
          ],
          "name": "stdout"
        }
      ]
    },
    {
      "cell_type": "code",
      "metadata": {
        "colab": {
          "base_uri": "https://localhost:8080/"
        },
        "id": "z8tv_cKIAcYY",
        "outputId": "214f0037-7f01-461b-ea26-15dbb96d66e0"
      },
      "source": [
        "# 3D Convolutional Model:\n",
        "input_model=Input(shape=(10,200,200,3))\n",
        "layer=Conv3D(64,(3,3,3),activation='relu')(input_model)\n",
        "layer=MaxPooling3D((2,2,2))(layer)\n",
        "layer=Conv3D(32,(3,3,3),activation='relu')(layer)\n",
        "layer=MaxPooling3D((2,2,2))(layer)\n",
        "layer=BatchNormalization()(layer)\n",
        "layer=Flatten()(layer)\n",
        "layer=Dense(128,activation='relu')(layer)\n",
        "layer=Dropout(0.3)(layer)\n",
        "layer=Dense(64,activation='relu')(layer)\n",
        "layer=Dense(32,activation='relu')(layer)\n",
        "layer_output=Dense(1,activation='sigmoid')(layer)\n",
        "\n",
        "model=Model(input_model,layer_output)\n",
        "\n",
        "model.summary()"
      ],
      "execution_count": null,
      "outputs": [
        {
          "output_type": "stream",
          "text": [
            "Model: \"model_6\"\n",
            "_________________________________________________________________\n",
            "Layer (type)                 Output Shape              Param #   \n",
            "=================================================================\n",
            "input_7 (InputLayer)         [(None, 10, 200, 200, 3)] 0         \n",
            "_________________________________________________________________\n",
            "conv3d_12 (Conv3D)           (None, 8, 198, 198, 64)   5248      \n",
            "_________________________________________________________________\n",
            "max_pooling3d_12 (MaxPooling (None, 4, 99, 99, 64)     0         \n",
            "_________________________________________________________________\n",
            "conv3d_13 (Conv3D)           (None, 2, 97, 97, 32)     55328     \n",
            "_________________________________________________________________\n",
            "max_pooling3d_13 (MaxPooling (None, 1, 48, 48, 32)     0         \n",
            "_________________________________________________________________\n",
            "batch_normalization_6 (Batch (None, 1, 48, 48, 32)     128       \n",
            "_________________________________________________________________\n",
            "flatten_6 (Flatten)          (None, 73728)             0         \n",
            "_________________________________________________________________\n",
            "dense_24 (Dense)             (None, 128)               9437312   \n",
            "_________________________________________________________________\n",
            "dropout_6 (Dropout)          (None, 128)               0         \n",
            "_________________________________________________________________\n",
            "dense_25 (Dense)             (None, 64)                8256      \n",
            "_________________________________________________________________\n",
            "dense_26 (Dense)             (None, 32)                2080      \n",
            "_________________________________________________________________\n",
            "dense_27 (Dense)             (None, 1)                 33        \n",
            "=================================================================\n",
            "Total params: 9,508,385\n",
            "Trainable params: 9,508,321\n",
            "Non-trainable params: 64\n",
            "_________________________________________________________________\n"
          ],
          "name": "stdout"
        }
      ]
    },
    {
      "cell_type": "code",
      "metadata": {
        "colab": {
          "base_uri": "https://localhost:8080/"
        },
        "id": "wkGC_8gqAnAF",
        "outputId": "88da168e-6722-4450-95de-6036eb9cc94e"
      },
      "source": [
        "# Conv3d model training:\n",
        "from keras import optimizers\n",
        "import keras\n",
        "from keras.callbacks import ModelCheckpoint\n",
        "path = F\"/content/gdrive/MyDrive/model8.h5\" \n",
        "checkpoint = ModelCheckpoint(path, monitor='val_loss', verbose=1, save_best_only=True, mode='min')\n",
        "\n",
        "model.compile(loss='binary_crossentropy',optimizer=optimizers.Adam(lr=0.001),metrics=['acc']) \n",
        "history=model.fit(x_train,y_train,batch_size=5,epochs=10,\n",
        "               validation_data=(x_valid,y_valid),callbacks=checkpoint)  "
      ],
      "execution_count": null,
      "outputs": [
        {
          "output_type": "stream",
          "text": [
            "Epoch 1/10\n",
            "12/12 [==============================] - 2s 160ms/step - loss: 3.0806 - acc: 0.4519 - val_loss: 3.1548 - val_acc: 0.6000\n",
            "\n",
            "Epoch 00001: val_loss improved from inf to 3.15478, saving model to /content/gdrive/MyDrive/model8.h5\n",
            "Epoch 2/10\n",
            "12/12 [==============================] - 2s 140ms/step - loss: 1.3103 - acc: 0.7122 - val_loss: 2.5107 - val_acc: 0.4000\n",
            "\n",
            "Epoch 00002: val_loss improved from 3.15478 to 2.51073, saving model to /content/gdrive/MyDrive/model8.h5\n",
            "Epoch 3/10\n",
            "12/12 [==============================] - 2s 139ms/step - loss: 0.7541 - acc: 0.6377 - val_loss: 0.9162 - val_acc: 0.6000\n",
            "\n",
            "Epoch 00003: val_loss improved from 2.51073 to 0.91615, saving model to /content/gdrive/MyDrive/model8.h5\n",
            "Epoch 4/10\n",
            "12/12 [==============================] - 2s 140ms/step - loss: 0.4348 - acc: 0.7946 - val_loss: 3.2825 - val_acc: 0.6000\n",
            "\n",
            "Epoch 00004: val_loss did not improve from 0.91615\n",
            "Epoch 5/10\n",
            "12/12 [==============================] - 2s 139ms/step - loss: 0.1262 - acc: 0.9445 - val_loss: 3.2060 - val_acc: 0.6000\n",
            "\n",
            "Epoch 00005: val_loss did not improve from 0.91615\n",
            "Epoch 6/10\n",
            "12/12 [==============================] - 2s 138ms/step - loss: 0.3328 - acc: 0.8934 - val_loss: 3.5985 - val_acc: 0.6000\n",
            "\n",
            "Epoch 00006: val_loss did not improve from 0.91615\n",
            "Epoch 7/10\n",
            "12/12 [==============================] - 2s 143ms/step - loss: 0.2322 - acc: 0.9361 - val_loss: 1.7249 - val_acc: 0.5750\n",
            "\n",
            "Epoch 00007: val_loss did not improve from 0.91615\n",
            "Epoch 8/10\n",
            "12/12 [==============================] - 2s 139ms/step - loss: 0.3218 - acc: 0.8938 - val_loss: 1.5461 - val_acc: 0.5750\n",
            "\n",
            "Epoch 00008: val_loss did not improve from 0.91615\n",
            "Epoch 9/10\n",
            "12/12 [==============================] - 2s 140ms/step - loss: 0.5343 - acc: 0.8582 - val_loss: 3.8034 - val_acc: 0.6000\n",
            "\n",
            "Epoch 00009: val_loss did not improve from 0.91615\n",
            "Epoch 10/10\n",
            "12/12 [==============================] - 2s 140ms/step - loss: 0.1455 - acc: 0.9584 - val_loss: 4.5940 - val_acc: 0.6000\n",
            "\n",
            "Epoch 00010: val_loss did not improve from 0.91615\n"
          ],
          "name": "stdout"
        }
      ]
    },
    {
      "cell_type": "code",
      "metadata": {
        "colab": {
          "base_uri": "https://localhost:8080/",
          "height": 1000
        },
        "id": "-PayQWFshWsi",
        "outputId": "d422ed55-b364-4d75-f6f8-cb3f6d4ee9fc"
      },
      "source": [
        "plot_model(model, to_file='model_plot.png', show_shapes=True, show_layer_names=True)"
      ],
      "execution_count": null,
      "outputs": [
        {
          "output_type": "execute_result",
          "data": {
            "image/png": "[encoded data removed]",
            "text/plain": [
              "<IPython.core.display.Image object>"
            ]
          },
          "metadata": {
            "tags": []
          },
          "execution_count": 152
        }
      ]
    },
    {
      "cell_type": "code",
      "metadata": {
        "id": "cv4rXadBhgwD",
        "colab": {
          "base_uri": "https://localhost:8080/",
          "height": 312
        },
        "outputId": "6612945a-66eb-4a90-9888-f46266373e12"
      },
      "source": [
        "epochs = range(1,11)\n",
        "plt.plot(epochs, history.history['loss'], 'b', label = 'training loss')\n",
        "plt.plot(epochs, history.history['val_loss'], 'g', label = 'validation loss')\n",
        "plt.title('Training and validation requiremet loss')\n",
        "plt.ylabel('loss')\n",
        "plt.xlabel('epochs')\n",
        "plt.legend()"
      ],
      "execution_count": null,
      "outputs": [
        {
          "output_type": "execute_result",
          "data": {
            "text/plain": [
              "<matplotlib.legend.Legend at 0x7f7a38413e90>"
            ]
          },
          "metadata": {
            "tags": []
          },
          "execution_count": 153
        },
        {
          "output_type": "display_data",
          "data": {
            "image/png": "[encoded data removed]",
            "text/plain": [
              "<Figure size 432x288 with 1 Axes>"
            ]
          },
          "metadata": {
            "tags": [],
            "needs_background": "light"
          }
        }
      ]
    },
    {
      "cell_type": "code",
      "metadata": {
        "colab": {
          "base_uri": "https://localhost:8080/"
        },
        "id": "mhxQ8UOR8cAQ",
        "outputId": "2efda15e-d947-4b83-f318-1fcedd6d17d2"
      },
      "source": [
        "! mkdir test_dir\n",
        "! unzip '/content/gdrive/MyDrive/Test_Waiving.zip' -d test_dir"
      ],
      "execution_count": null,
      "outputs": [
        {
          "output_type": "stream",
          "text": [
            "mkdir: cannot create directory ‘test_dir’: File exists\n",
            "Archive:  /content/gdrive/MyDrive/Test_Waiving.zip\n",
            "replace test_dir/Test_Waiving/Test_Waiving/other_0.avi? [y]es, [n]o, [A]ll, [N]one, [r]ename: "
          ],
          "name": "stdout"
        }
      ]
    },
    {
      "cell_type": "code",
      "metadata": {
        "id": "43a0ofyt8_0W"
      },
      "source": [
        "! mkdir  frames_test"
      ],
      "execution_count": null,
      "outputs": []
    },
    {
      "cell_type": "code",
      "metadata": {
        "id": "Bn7LBITd9JhM"
      },
      "source": [
        "video_directory='/content/test_dir/Test_Waiving/Test_Waiving'\n",
        "frames_test='/content/frames_test'"
      ],
      "execution_count": null,
      "outputs": []
    },
    {
      "cell_type": "code",
      "metadata": {
        "colab": {
          "base_uri": "https://localhost:8080/",
          "height": 245
        },
        "id": "IoYNrIxZ2Fvf",
        "outputId": "70e1042e-8f0c-43ae-e615-c499b1628e82"
      },
      "source": [
        "videos=os.listdir(video_directory)\n",
        "test_label=[]\n",
        "for i in videos:\n",
        "    if \"other_\" in i:\n",
        "        test_label.append(0)\n",
        "    else: \n",
        "        test_label.append(1)\n",
        "print(len(test_label))\n",
        "\n",
        "videos=pd.DataFrame(videos,test_label).reset_index()\n",
        "videos.columns=[\"test_label\",\"video_name\"]\n",
        "\n",
        "# 40% videos for validation and 60% for training\n",
        "other=videos.loc[videos[\"test_label\"]==0,]\n",
        "waiving=videos.loc[videos[\"test_label\"]==1,]\n",
        "\n",
        "test_set=other.append(waiving)\n",
        "\n",
        "test_set"
      ],
      "execution_count": null,
      "outputs": [
        {
          "output_type": "stream",
          "text": [
            "6\n"
          ],
          "name": "stdout"
        },
        {
          "output_type": "execute_result",
          "data": {
            "text/html": [
              "<div>\n",
              "<style scoped>\n",
              "    .dataframe tbody tr th:only-of-type {\n",
              "        vertical-align: middle;\n",
              "    }\n",
              "\n",
              "    .dataframe tbody tr th {\n",
              "        vertical-align: top;\n",
              "    }\n",
              "\n",
              "    .dataframe thead th {\n",
              "        text-align: right;\n",
              "    }\n",
              "</style>\n",
              "<table border=\"1\" class=\"dataframe\">\n",
              "  <thead>\n",
              "    <tr style=\"text-align: right;\">\n",
              "      <th></th>\n",
              "      <th>test_label</th>\n",
              "      <th>video_name</th>\n",
              "    </tr>\n",
              "  </thead>\n",
              "  <tbody>\n",
              "    <tr>\n",
              "      <th>0</th>\n",
              "      <td>0</td>\n",
              "      <td>other_1.avi</td>\n",
              "    </tr>\n",
              "    <tr>\n",
              "      <th>2</th>\n",
              "      <td>0</td>\n",
              "      <td>other_0.avi</td>\n",
              "    </tr>\n",
              "    <tr>\n",
              "      <th>1</th>\n",
              "      <td>1</td>\n",
              "      <td>waiving_1.avi</td>\n",
              "    </tr>\n",
              "    <tr>\n",
              "      <th>3</th>\n",
              "      <td>1</td>\n",
              "      <td>waiving_0.avi</td>\n",
              "    </tr>\n",
              "    <tr>\n",
              "      <th>4</th>\n",
              "      <td>1</td>\n",
              "      <td>waiving_2.avi</td>\n",
              "    </tr>\n",
              "    <tr>\n",
              "      <th>5</th>\n",
              "      <td>1</td>\n",
              "      <td>waiving_3.avi</td>\n",
              "    </tr>\n",
              "  </tbody>\n",
              "</table>\n",
              "</div>"
            ],
            "text/plain": [
              "   test_label     video_name\n",
              "0           0    other_1.avi\n",
              "2           0    other_0.avi\n",
              "1           1  waiving_1.avi\n",
              "3           1  waiving_0.avi\n",
              "4           1  waiving_2.avi\n",
              "5           1  waiving_3.avi"
            ]
          },
          "metadata": {
            "tags": []
          },
          "execution_count": 156
        }
      ]
    },
    {
      "cell_type": "code",
      "metadata": {
        "colab": {
          "base_uri": "https://localhost:8080/"
        },
        "id": "c8PCBOR09aML",
        "outputId": "297993a0-63a0-4f3f-8097-1347b9a715f7"
      },
      "source": [
        "#save the frames of all videos\n",
        "get_frames(test_set,frames_test)"
      ],
      "execution_count": null,
      "outputs": [
        {
          "output_type": "stream",
          "text": [
            "All frames written in the  /content/frames_test\n"
          ],
          "name": "stdout"
        }
      ]
    },
    {
      "cell_type": "code",
      "metadata": {
        "id": "zAP84-PV9jU2"
      },
      "source": [
        "testing = get_train_data(frames_test + '/*.jpg')"
      ],
      "execution_count": null,
      "outputs": []
    },
    {
      "cell_type": "code",
      "metadata": {
        "colab": {
          "base_uri": "https://localhost:8080/"
        },
        "id": "o2rz_Tj9-OEH",
        "outputId": "3b79a508-0f3b-4e62-f616-ae3e4c6e6b33"
      },
      "source": [
        "X_test = np.array(testing)\n",
        "y_test = np.array(test_label)\n",
        "X_test=X_test.reshape(X_test.shape[0]//10,10,200, 200, 3)\n",
        "print(X_test.shape)\n",
        "print(y_test.shape)"
      ],
      "execution_count": null,
      "outputs": [
        {
          "output_type": "stream",
          "text": [
            "(6, 10, 200, 200, 3)\n",
            "(6,)\n"
          ],
          "name": "stdout"
        }
      ]
    },
    {
      "cell_type": "code",
      "metadata": {
        "colab": {
          "base_uri": "https://localhost:8080/"
        },
        "id": "ibetb0LS-WLd",
        "outputId": "2a57345f-0ba3-432c-c1e7-0f7a21d5ec63"
      },
      "source": [
        "scores = model.evaluate(X_test, y_test)\n",
        "print(\"%s: %.2f%%\" % (model.metrics_names[1], scores[1]*100))"
      ],
      "execution_count": null,
      "outputs": [
        {
          "output_type": "stream",
          "text": [
            "1/1 [==============================] - 0s 201ms/step - loss: 2.5724 - acc: 0.6667\n",
            "acc: 66.67%\n"
          ],
          "name": "stdout"
        }
      ]
    },
    {
      "cell_type": "code",
      "metadata": {
        "id": "Wz1b36FB5SxG"
      },
      "source": [
        ""
      ],
      "execution_count": null,
      "outputs": []
    }
  ]
}