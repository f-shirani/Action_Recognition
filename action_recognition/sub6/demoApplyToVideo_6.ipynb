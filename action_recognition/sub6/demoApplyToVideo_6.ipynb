{
  "nbformat": 4,
  "nbformat_minor": 0,
  "metadata": {
    "colab": {
      "name": "demoApplyToVideo_6.ipynb",
      "provenance": [],
      "collapsed_sections": []
    },
    "kernelspec": {
      "name": "python3",
      "display_name": "Python 3"
    }
  },
  "cells": [
    {
      "cell_type": "code",
      "metadata": {
        "colab": {
          "base_uri": "https://localhost:8080/"
        },
        "id": "2G3ZUbYBDeVz",
        "outputId": "50a5cb22-5ba7-4908-d811-145a451684e6"
      },
      "source": [
        "!pip install pytube"
      ],
      "execution_count": 8,
      "outputs": [
        {
          "output_type": "stream",
          "text": [
            "Requirement already satisfied: pytube in /usr/local/lib/python3.7/dist-packages (10.7.2)\n"
          ],
          "name": "stdout"
        }
      ]
    },
    {
      "cell_type": "code",
      "metadata": {
        "id": "impbaaeOB-vy"
      },
      "source": [
        "import keras\n",
        "from keras.preprocessing import image\n",
        "import numpy as np\n",
        "import pandas as pd\n",
        "from keras.models import load_model\n",
        "import cv2\n",
        "import json\n",
        "import pytube\n"
      ],
      "execution_count": 9,
      "outputs": []
    },
    {
      "cell_type": "code",
      "metadata": {
        "id": "O8G8ohiX9Svr",
        "colab": {
          "base_uri": "https://localhost:8080/"
        },
        "outputId": "b8d0e521-8e50-42a9-9e26-ea6c1ee460b7"
      },
      "source": [
        "\n",
        "from google.colab import drive\n",
        "drive.mount('/content/gdrive')"
      ],
      "execution_count": 4,
      "outputs": [
        {
          "output_type": "stream",
          "text": [
            "Mounted at /content/gdrive\n"
          ],
          "name": "stdout"
        }
      ]
    },
    {
      "cell_type": "code",
      "metadata": {
        "id": "4wuK5m3TDOUj"
      },
      "source": [
        "#load the model\n",
        "model=load_model('/content/gdrive/MyDrive/model6.h5')"
      ],
      "execution_count": 10,
      "outputs": []
    },
    {
      "cell_type": "code",
      "metadata": {
        "id": "FVeUw9MkpjHJ"
      },
      "source": [
        "img_high=220\n",
        "img_width=220\n",
        "frame_num_video=10"
      ],
      "execution_count": 11,
      "outputs": []
    },
    {
      "cell_type": "code",
      "metadata": {
        "id": "dOJ0fAieBb75",
        "colab": {
          "base_uri": "https://localhost:8080/"
        },
        "outputId": "3e79a88b-c833-444f-fc6a-9c4a563c9fad"
      },
      "source": [
        "# get the links of youtube videos from csv file\n",
        "\n",
        "df=[]\n",
        "nick_name=\"CSCE636Spring2021-Farry-6\"\n",
        "label=\"smoking\"\n",
        "probs=[]\n",
        "times=[]\n",
        " \n",
        "url=\"https://www.youtube.com/watch?v=w5c6yvZEQ7M\"\n",
        "yt= pytube.YouTube(url)\n",
        "vid_id=yt.video_id\n",
        "yt= yt.streams.first()\n",
        "video=yt.download()\n",
        "\n",
        "# capturing the video from the given path\n",
        "cap = cv2.VideoCapture(video)  \n",
        "total_frames = int(cap.get(7))\n",
        "\n",
        "\n",
        "#split youtube video to video clips of 2s\n",
        "clip_len =2\n",
        "frames=[]\n",
        "frame_rate = cap.get(5) # frames per second \n",
        "vid_len = int(total_frames/frame_rate) # video time  in seconds\n",
        "intervals = int(vid_len/clip_len) #how many video clips\n",
        "print(intervals,vid_id)\n",
        "frame_per_interval = total_frames //intervals #how many frames are in each clips\n",
        "frame_distance = frame_per_interval//10  # skip some frames \n",
        "\n",
        "frame_count = 0   # This variable keeps count of the total frames\n",
        "clip_count = 1\n",
        "frame_count_all=0\n",
        "frame_time=[]\n",
        "\n",
        "for i in range (total_frames): #iterating over all the frames of the video.\n",
        "      ret, frame = cap.read()\n",
        "      if ret ==False:  # Checking if the frame is missing, and if missing, we take the previous frame\n",
        "          frame = f_prev\n",
        "      elif ret==True:\n",
        "          f_prev =frame\n",
        "\n",
        "      frame_count_all +=1    \n",
        "      frame_count +=1\n",
        "    \n",
        "      if frame_count ==frame_distance:   \n",
        "          frame_count = 0\n",
        "          frame=cv2.resize(frame,(img_high,img_width),interpolation=cv2.INTER_AREA)\n",
        "          frames.append(frame)\n",
        "          frame_time.append(frame_count_all*(1/frame_rate))\n",
        "          \n",
        "        # when we reach to video clip length save the frames\n",
        "      if i == ((clip_count*frame_per_interval)-1):\n",
        "          inpt = np.array(frames)\n",
        "          inpt = inpt.astype('float32')\n",
        "          inpt -= np.mean(inpt)\n",
        "          inpt /=np.max(inpt)\n",
        "          \n",
        "          frames = []\n",
        "          #  I just keep 10 frames to have the format of the model\n",
        "          inpt_shape = np.zeros((1, 10, img_high, img_width, 3))\n",
        "          inpt_shape[0][:][:][:][:] = inpt[:10][:][:][:]\n",
        "          p = model.predict(inpt_shape)\n",
        "          prob = p[:][0][0]\n",
        "       \n",
        "          \n",
        "          start_time=round(frame_time[0],2)\n",
        "          end_time=round(frame_time[-1],2)\n",
        "          min_s, sec_s = divmod(frame_time[0], 60)\n",
        "          start_time2=str(\"%d:%02d\" % (min_s, sec_s) ) #Starting time of the interval\n",
        "          min_e, sec_e = divmod(frame_time[-1],60) \n",
        "          end_time2 = str(\"%d:%02d\" % (min_e, sec_e) )  # Ending time of the interval \n",
        "          probs.append(prob)\n",
        "          times.append(start_time)\n",
        "          frame_time=[]\n",
        "     \n",
        "          if prob>=0.60:\n",
        "              print(prob,start_time,end_time,start_time2,end_time2)\n",
        "              data= {\"videoId\":vid_id,\n",
        "                      \"type\":\"segment\",\n",
        "                      \"startTime\":float(start_time),\n",
        "                      \"endTime\":float(end_time),\n",
        "                      \"observer\":nick_name,\n",
        "                      \"isHuman\":False,\n",
        "                      \"confirmedBySomeone\": False,\n",
        "                      \"rejectedBySomeone\": False,\"observation\":{\"label\": label,\"labelConfidence\": 0.85}}\n",
        "              df.append(data)\n",
        "              \n",
        "          clip_count += 1 #next clip\n",
        "          \n",
        "          if cv2.waitKey(1) & 0xFF == ord('q'):\n",
        "              break\n",
        "cap.release()\n",
        "cv2.destroyAllWindows()\n"
      ],
      "execution_count": 12,
      "outputs": [
        {
          "output_type": "stream",
          "text": [
            "40 w5c6yvZEQ7M\n",
            "[0.62955576] 22.22 24.02 0:22 0:24\n",
            "[0.6088065] 34.23 36.04 0:34 0:36\n",
            "[0.60178965] 44.24 46.05 0:44 0:46\n",
            "[0.66320246] 72.27 74.07 1:12 1:14\n"
          ],
          "name": "stdout"
        }
      ]
    },
    {
      "cell_type": "code",
      "metadata": {
        "colab": {
          "base_uri": "https://localhost:8080/",
          "height": 331
        },
        "id": "0o9tkFY4JrZR",
        "outputId": "3c938d05-d24a-4332-af93-555e98f22d68"
      },
      "source": [
        "import matplotlib.pyplot as plt \n",
        "\n",
        "plt.plot(times, probs)\n",
        "plt.title('Prediction of video clips')\n",
        "plt.ylabel('prediction')\n",
        "plt.xlabel('time(seconds)')\n",
        "plt.legend()"
      ],
      "execution_count": 13,
      "outputs": [
        {
          "output_type": "stream",
          "text": [
            "No handles with labels found to put in legend.\n"
          ],
          "name": "stderr"
        },
        {
          "output_type": "execute_result",
          "data": {
            "text/plain": [
              "<matplotlib.legend.Legend at 0x7efdc05aaad0>"
            ]
          },
          "metadata": {
            "tags": []
          },
          "execution_count": 13
        },
        {
          "output_type": "display_data",
          "data": {
            "image/png": "[encoded data removed]",
            "text/plain": [
              "<Figure size 432x288 with 1 Axes>"
            ]
          },
          "metadata": {
            "tags": [],
            "needs_background": "light"
          }
        }
      ]
    },
    {
      "cell_type": "code",
      "metadata": {
        "id": "Vy8wlpUE8I1e"
      },
      "source": [
        "import os\n",
        "json_dir='/content/gdrive/MyDrive'\n",
        "filename=\"CSCE636Spring2021-Farry-6.json\"\n",
        "with open(os.path.join(json_dir,filename), 'w',encoding='utf-8') as f:\n",
        "     json.dump(df, f,ensure_ascii=False, indent=4)\n",
        "   "
      ],
      "execution_count": 14,
      "outputs": []
    }
  ]
}