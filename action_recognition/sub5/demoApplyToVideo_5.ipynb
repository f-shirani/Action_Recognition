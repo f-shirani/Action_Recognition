{
  "nbformat": 4,
  "nbformat_minor": 0,
  "metadata": {
    "colab": {
      "name": "demoApplyToVideo_5.ipynb",
      "provenance": [],
      "collapsed_sections": []
    },
    "kernelspec": {
      "name": "python3",
      "display_name": "Python 3"
    }
  },
  "cells": [
    {
      "cell_type": "code",
      "metadata": {
        "colab": {
          "base_uri": "https://localhost:8080/"
        },
        "id": "2G3ZUbYBDeVz",
        "outputId": "0b4245cf-ef81-4dcf-956d-52f82f6ec064"
      },
      "source": [
        "!pip install pytube"
      ],
      "execution_count": 9,
      "outputs": [
        {
          "output_type": "stream",
          "text": [
            "Requirement already satisfied: pytube in /usr/local/lib/python3.7/dist-packages (10.7.2)\n"
          ],
          "name": "stdout"
        }
      ]
    },
    {
      "cell_type": "code",
      "metadata": {
        "id": "impbaaeOB-vy"
      },
      "source": [
        "import keras\n",
        "from keras.preprocessing import image\n",
        "import numpy as np\n",
        "import pandas as pd\n",
        "from keras.models import load_model\n",
        "import cv2\n",
        "import json\n",
        "import pytube\n"
      ],
      "execution_count": 19,
      "outputs": []
    },
    {
      "cell_type": "code",
      "metadata": {
        "id": "O8G8ohiX9Svr",
        "colab": {
          "base_uri": "https://localhost:8080/"
        },
        "outputId": "c283d311-4019-4bd7-ed04-bab106b9e240"
      },
      "source": [
        "from google.colab import drive\n",
        "drive.mount('/content/gdrive')"
      ],
      "execution_count": 11,
      "outputs": [
        {
          "output_type": "stream",
          "text": [
            "Drive already mounted at /content/gdrive; to attempt to forcibly remount, call drive.mount(\"/content/gdrive\", force_remount=True).\n"
          ],
          "name": "stdout"
        }
      ]
    },
    {
      "cell_type": "code",
      "metadata": {
        "id": "4wuK5m3TDOUj"
      },
      "source": [
        "#load the model\n",
        "model=load_model('/content/gdrive/MyDrive/model5.h5')"
      ],
      "execution_count": 20,
      "outputs": []
    },
    {
      "cell_type": "code",
      "metadata": {
        "id": "i2HJRA6ZTrlz"
      },
      "source": [
        " # !rm -rf /content/test_frames"
      ],
      "execution_count": null,
      "outputs": []
    },
    {
      "cell_type": "code",
      "metadata": {
        "id": "FVeUw9MkpjHJ"
      },
      "source": [
        "img_high=220\n",
        "img_width=220\n",
        "frame_num_video=10"
      ],
      "execution_count": 21,
      "outputs": []
    },
    {
      "cell_type": "code",
      "metadata": {
        "id": "dOJ0fAieBb75"
      },
      "source": [
        "nick_name=\"CSCE636Spring2021-Farry-5\"\n",
        "label=\"smoking\"\n",
        "df=[]\n",
        " \n",
        "\n",
        "url='https://www.youtube.com/watch?v=w5c6yvZEQ7M&t=5s'\n",
        "yt= pytube.YouTube(url)\n",
        "vid_id=yt.video_id\n",
        "yt= yt.streams.first()\n",
        "video=yt.download()\n",
        "\n",
        "# capturing the video from the given path\n",
        "cap = cv2.VideoCapture(video)  \n",
        "total_frames = int(cap.get(7))\n",
        "\n",
        "\n",
        "#split video to every 2 seconds \n",
        "clip_len =2 \n",
        "frames=[]\n",
        "frame_rate = cap.get(5) # frames per second \n",
        "vid_len = int(total_frames/frame_rate) # video time  in seconds\n",
        "intervals = int(vid_len/clip_len) #how many video clips\n",
        "print(intervals)\n",
        "frame_per_interval = total_frames //intervals #how many frames are in each clips\n",
        "frame_distance = frame_per_interval//10  # skip some frames \n",
        "\n",
        "frame_count = 0   # This variable keeps count of the total frames\n",
        "clip_count = 1\n",
        "frame_count_all=0\n",
        "frame_time=[]\n",
        "\n",
        "for i in range (total_frames): #iterating over all the frames of the video.\n",
        "      ret, frame = cap.read()\n",
        "      if ret ==False:  # Checking if the frame is missing, and if missing, we take the previous frame\n",
        "          frame = f_prev\n",
        "      elif ret==True:\n",
        "          f_prev =frame\n",
        "\n",
        "      frame_count_all +=1    \n",
        "      frame_count +=1\n",
        "    \n",
        "      if frame_count ==frame_distance:\n",
        "          frame_count = 0\n",
        "          frame=cv2.resize(frame,(img_high,img_width),interpolation=cv2.INTER_AREA)\n",
        "          frames.append(frame)\n",
        "          frame_time.append(frame_count_all*(1/frame_rate))\n",
        "          \n",
        "        # when we reach to video clip length save the frames\n",
        "      if i == ((clip_count*frame_per_interval)-1):\n",
        "          inpt = np.array(frames)\n",
        "          inpt = inpt.astype('float32')\n",
        "          inpt -= np.mean(inpt)\n",
        "          inpt /=np.max(inpt)\n",
        "          \n",
        "          frames = []\n",
        "          #  I just keep 10 frames to have the format of the model\n",
        "          inpt_shape = np.zeros((1, 10, img_high, img_width, 3))\n",
        "          inpt_shape[0][:][:][:][:] = inpt[:10][:][:][:]\n",
        "          p = model.predict(inpt_shape)\n",
        "          prob = p[:][0][0]\n",
        "\n",
        "          \n",
        "          start_time=round(frame_time[0],2)\n",
        "          end_time=round(frame_time[-1],2)\n",
        "          frame_time=[]\n",
        "\n",
        "          if prob>=0.52:\n",
        "              print(prob,start_time,end_time)\n",
        "              data= {\"videoId\":vid_id,\n",
        "                      \"type\":\"segment\",\n",
        "                      \"startTime\":float(start_time),\n",
        "                    \"endTime\":float(end_time),\n",
        "                      \"observer\":nick_name,\n",
        "                      \"isHuman\":False,\n",
        "                      \"confirmedBySomeone\": False,\n",
        "                      \"rejectedBySomeone\": False,\"observation\":{\"label\": label,\"labelConfidence\": 0.85}}\n",
        "              df.append(data)\n",
        "              \n",
        "          clip_count += 1 #next clip\n",
        "          \n",
        "          if cv2.waitKey(1) & 0xFF == ord('q'):\n",
        "              break\n",
        "cap.release()\n",
        "cv2.destroyAllWindows()\n"
      ],
      "execution_count": null,
      "outputs": []
    },
    {
      "cell_type": "code",
      "metadata": {
        "id": "Vy8wlpUE8I1e"
      },
      "source": [
        "import os\n",
        "json_dir='/content/gdrive/MyDrive'\n",
        "filename=\"CSCE636-Spring2021-Farry-5.json\"\n",
        "with open(os.path.join(json_dir,filename), 'w',encoding='utf-8') as f:\n",
        "     json.dump(df, f,ensure_ascii=False, indent=4)\n",
        "   "
      ],
      "execution_count": null,
      "outputs": []
    }
  ]
}