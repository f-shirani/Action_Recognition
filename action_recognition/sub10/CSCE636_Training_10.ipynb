{
  "nbformat": 4,
  "nbformat_minor": 0,
  "metadata": {
    "colab": {
      "name": "CSCE636_Training_10.ipynb",
      "provenance": [],
      "collapsed_sections": []
    },
    "kernelspec": {
      "name": "python3",
      "display_name": "Python 3"
    },
    "language_info": {
      "name": "python"
    },
    "accelerator": "GPU"
  },
  "cells": [
    {
      "cell_type": "code",
      "metadata": {
        "id": "S8CAM5_2gapw"
      },
      "source": [
        "import pandas as pd\n",
        "from keras.preprocessing import image   # for preprocessing the images\n",
        "from sklearn.model_selection import train_test_split\n",
        "from keras.utils import to_categorical\n",
        "from keras.preprocessing.image import ImageDataGenerator\n",
        "from keras import optimizers\n",
        "from keras import models\n",
        "from keras import layers\n",
        "from keras.layers import TimeDistributed, Conv2D, Dense, MaxPooling2D, Flatten, LSTM, Dropout, BatchNormalization\n",
        "from keras.layers import Conv3D, MaxPooling3D, BatchNormalization, Dropout, Dense, Flatten, concatenate\n",
        "from keras.models import Model\n",
        "from keras import Input\n",
        "from keras import optimizers\n",
        "import keras\n",
        "from keras.utils.vis_utils import plot_model\n",
        "import matplotlib.pyplot as plt    \n",
        "%matplotlib inline\n",
        "import numpy as np\n",
        "import os\n",
        "import glob\n",
        "import cv2"
      ],
      "execution_count": 1,
      "outputs": []
    },
    {
      "cell_type": "code",
      "metadata": {
        "colab": {
          "base_uri": "https://localhost:8080/"
        },
        "id": "7t8MfBHbgokN",
        "outputId": "f4e6ac1b-b3dc-4a16-9c51-2afb76f47f29"
      },
      "source": [
        "from google.colab import drive\n",
        "\n",
        "drive.mount('/content/gdrive')"
      ],
      "execution_count": 2,
      "outputs": [
        {
          "output_type": "stream",
          "text": [
            "Drive already mounted at /content/gdrive; to attempt to forcibly remount, call drive.mount(\"/content/gdrive\", force_remount=True).\n"
          ],
          "name": "stdout"
        }
      ]
    },
    {
      "cell_type": "code",
      "metadata": {
        "id": "3-kGseyAgr48",
        "colab": {
          "base_uri": "https://localhost:8080/"
        },
        "outputId": "6e1eb4a2-35da-4579-ba95-4f692b0d121a"
      },
      "source": [
        "\n",
        "! mkdir train_dir\n",
        "! unzip '/content/gdrive/MyDrive/Training_Kick.zip' -d train_dir"
      ],
      "execution_count": 3,
      "outputs": [
        {
          "output_type": "stream",
          "text": [
            "mkdir: cannot create directory ‘train_dir’: File exists\n",
            "Archive:  /content/gdrive/MyDrive/Training_Kick.zip\n",
            "replace train_dir/Training_Kick/kick_0.avi? [y]es, [n]o, [A]ll, [N]one, [r]ename: "
          ],
          "name": "stdout"
        }
      ]
    },
    {
      "cell_type": "code",
      "metadata": {
        "id": "UxfG7R7-VeSp"
      },
      "source": [
        "video_directory=\"/content/train_dir/Training_Kick\"\n",
        "videos=os.listdir(video_directory)\n",
        "label=[]\n",
        "for i in videos:\n",
        "    if \"other_\" in i:\n",
        "        label.append(0)\n",
        "    else: \n",
        "        label.append(1)\n",
        "       \n",
        "videos=pd.DataFrame(videos,label).reset_index()\n",
        "videos.columns=[\"labels\",\"video_name\"]\n"
      ],
      "execution_count": 2,
      "outputs": []
    },
    {
      "cell_type": "code",
      "metadata": {
        "colab": {
          "base_uri": "https://localhost:8080/",
          "height": 406
        },
        "id": "seUKh8iGa__3",
        "outputId": "57ee2b25-9ae8-4116-b96d-12e8558bada7"
      },
      "source": [
        "# put 40% videos for validation and 60% for training\n",
        "other=videos.loc[videos[\"labels\"]==0,]\n",
        "kick=videos.loc[videos[\"labels\"]==1,]\n",
        "\n",
        "other_range=np.arange(len(other))\n",
        "kick_range=np.arange(len(kick))\n",
        "np.random.seed(8)\n",
        "np.random.shuffle(other_range)\n",
        "np.random.shuffle(kick_range)\n",
        "\n",
        "kick=kick.iloc[kick_range,]\n",
        "other=other.iloc[other_range,]\n",
        "\n",
        "train_kick=kick.iloc[:60,]\n",
        "train_other=other.iloc[:48,]\n",
        "valid_kick=kick.iloc[60:,]\n",
        "valid_other=other.iloc[48:,]\n",
        "\n",
        "train_set=train_kick.append(train_other)\n",
        "valid_set=valid_kick.append(valid_other)\n",
        "\n",
        "train_set=train_set.reset_index().drop(\"index\",axis=1)\n",
        "valid_set=valid_set.reset_index().drop(\"index\",axis=1)\n",
        "train_set"
      ],
      "execution_count": 3,
      "outputs": [
        {
          "output_type": "execute_result",
          "data": {
            "text/html": [
              "<div>\n",
              "<style scoped>\n",
              "    .dataframe tbody tr th:only-of-type {\n",
              "        vertical-align: middle;\n",
              "    }\n",
              "\n",
              "    .dataframe tbody tr th {\n",
              "        vertical-align: top;\n",
              "    }\n",
              "\n",
              "    .dataframe thead th {\n",
              "        text-align: right;\n",
              "    }\n",
              "</style>\n",
              "<table border=\"1\" class=\"dataframe\">\n",
              "  <thead>\n",
              "    <tr style=\"text-align: right;\">\n",
              "      <th></th>\n",
              "      <th>labels</th>\n",
              "      <th>video_name</th>\n",
              "    </tr>\n",
              "  </thead>\n",
              "  <tbody>\n",
              "    <tr>\n",
              "      <th>0</th>\n",
              "      <td>1</td>\n",
              "      <td>kick_10.avi</td>\n",
              "    </tr>\n",
              "    <tr>\n",
              "      <th>1</th>\n",
              "      <td>1</td>\n",
              "      <td>kick_30.avi</td>\n",
              "    </tr>\n",
              "    <tr>\n",
              "      <th>2</th>\n",
              "      <td>1</td>\n",
              "      <td>kick_19.avi</td>\n",
              "    </tr>\n",
              "    <tr>\n",
              "      <th>3</th>\n",
              "      <td>1</td>\n",
              "      <td>kick_20.avi</td>\n",
              "    </tr>\n",
              "    <tr>\n",
              "      <th>4</th>\n",
              "      <td>1</td>\n",
              "      <td>kick_37.avi</td>\n",
              "    </tr>\n",
              "    <tr>\n",
              "      <th>...</th>\n",
              "      <td>...</td>\n",
              "      <td>...</td>\n",
              "    </tr>\n",
              "    <tr>\n",
              "      <th>103</th>\n",
              "      <td>0</td>\n",
              "      <td>other_54.avi</td>\n",
              "    </tr>\n",
              "    <tr>\n",
              "      <th>104</th>\n",
              "      <td>0</td>\n",
              "      <td>other_41.avi</td>\n",
              "    </tr>\n",
              "    <tr>\n",
              "      <th>105</th>\n",
              "      <td>0</td>\n",
              "      <td>other_59.avi</td>\n",
              "    </tr>\n",
              "    <tr>\n",
              "      <th>106</th>\n",
              "      <td>0</td>\n",
              "      <td>other_53.avi</td>\n",
              "    </tr>\n",
              "    <tr>\n",
              "      <th>107</th>\n",
              "      <td>0</td>\n",
              "      <td>other_7.avi</td>\n",
              "    </tr>\n",
              "  </tbody>\n",
              "</table>\n",
              "<p>108 rows × 2 columns</p>\n",
              "</div>"
            ],
            "text/plain": [
              "     labels    video_name\n",
              "0         1   kick_10.avi\n",
              "1         1   kick_30.avi\n",
              "2         1   kick_19.avi\n",
              "3         1   kick_20.avi\n",
              "4         1   kick_37.avi\n",
              "..      ...           ...\n",
              "103       0  other_54.avi\n",
              "104       0  other_41.avi\n",
              "105       0  other_59.avi\n",
              "106       0  other_53.avi\n",
              "107       0   other_7.avi\n",
              "\n",
              "[108 rows x 2 columns]"
            ]
          },
          "metadata": {
            "tags": []
          },
          "execution_count": 3
        }
      ]
    },
    {
      "cell_type": "code",
      "metadata": {
        "colab": {
          "base_uri": "https://localhost:8080/"
        },
        "id": "4WQBtC7xnRWZ",
        "outputId": "453d162d-6eb0-45ab-d914-957187de11ce"
      },
      "source": [
        "\n",
        "train_label=train_set[\"labels\"]\n",
        "valid_label=valid_set[\"labels\"]\n",
        "print(len(valid_set))\n",
        "print(len(train_label))\n"
      ],
      "execution_count": 4,
      "outputs": [
        {
          "output_type": "stream",
          "text": [
            "72\n",
            "108\n"
          ],
          "name": "stdout"
        }
      ]
    },
    {
      "cell_type": "code",
      "metadata": {
        "id": "ZYq7fYHZ5uAX"
      },
      "source": [
        "!rm -rf frame_valid"
      ],
      "execution_count": null,
      "outputs": []
    },
    {
      "cell_type": "code",
      "metadata": {
        "id": "8ZAMZcKcgxiM",
        "colab": {
          "base_uri": "https://localhost:8080/"
        },
        "outputId": "f846d7c4-29ec-4607-ba61-3649b068cbe1"
      },
      "source": [
        "# ! mkdir frame_dir\n",
        "! mkdir frame_train\n",
        "! mkdir frame_valid"
      ],
      "execution_count": 5,
      "outputs": [
        {
          "output_type": "stream",
          "text": [
            "mkdir: cannot create directory ‘frame_train’: File exists\n",
            "mkdir: cannot create directory ‘frame_valid’: File exists\n"
          ],
          "name": "stdout"
        }
      ]
    },
    {
      "cell_type": "code",
      "metadata": {
        "id": "ehptr4G5g0cL"
      },
      "source": [
        "#fuction gets the video and save the frames of videos to .jpg format\n",
        "def get_frames(dataset, dest_path):\n",
        "    for i in np.arange(len(dataset)):\n",
        "          video_name=dataset.video_name[i]\n",
        "          video_path=os.path.join(video_directory,video_name)\n",
        "          file_name = video_path.split('.')[0].split('/')[-1]\n",
        "          cap= cv2.VideoCapture(video_path)\n",
        "          total_frames = int(cap.get(7))\n",
        "          frame_rate = cap.get(5)\n",
        "          # print(file_name,total_frames,frame_rate)\n",
        "          frame_distance = total_frames//10\n",
        "          \n",
        "          count=0\n",
        "          frame_count=0\n",
        "          for i in range (total_frames): #iterating over all the frames of the video.\n",
        "              ret, frame = cap.read()\n",
        "              if ret ==False:  # Checking if the frame is missing, and if missing, we take the previous frame\n",
        "                  frame = f_prev\n",
        "              elif ret==True:\n",
        "                  f_prev =frame\n",
        "              frame_count +=1\n",
        "              if ((frame_count ==(frame_distance)) and (count<10)):\n",
        "                  frame_count = 0\n",
        "                  cv2.imwrite(dest_path+'/'+file_name+'_'+ str(count)+\".jpg\",frame)\n",
        "                  count +=1\n",
        "    cap.release()\n",
        "    return print(\"All frames written in the  \"+dest_path)"
      ],
      "execution_count": 6,
      "outputs": []
    },
    {
      "cell_type": "code",
      "metadata": {
        "colab": {
          "base_uri": "https://localhost:8080/"
        },
        "id": "qjVX-wGCeju-",
        "outputId": "3a75be1f-39b8-4f9e-b46a-6b7dea7546ab"
      },
      "source": [
        "frame_train='/content/frame_train'\n",
        "frame_valid='/content/frame_valid'\n",
        "get_frames(train_set,frame_train)\n",
        "get_frames(valid_set,frame_valid)\n",
        "print(len(os.listdir(frame_valid)))"
      ],
      "execution_count": 7,
      "outputs": [
        {
          "output_type": "stream",
          "text": [
            "All frames written in the  /content/frame_train\n",
            "All frames written in the  /content/frame_valid\n",
            "720\n"
          ],
          "name": "stdout"
        }
      ]
    },
    {
      "cell_type": "code",
      "metadata": {
        "id": "rtJeXPeOg-Qi"
      },
      "source": [
        "img_high=220\n",
        "img_width=220\n",
        "frame_no_video=10"
      ],
      "execution_count": 8,
      "outputs": []
    },
    {
      "cell_type": "code",
      "metadata": {
        "id": "Pd-tUqJag_A4"
      },
      "source": [
        "def get_train_data(file_name):\n",
        "    training = []\n",
        "    frames_to_select=[]\n",
        "    for i , filename in enumerate(glob.glob(file_name)):\n",
        "\n",
        "        image = cv2.imread(filename)\n",
        "        img = cv2.resize(image, dsize=(img_high,img_width), interpolation=cv2.INTER_CUBIC)\n",
        "        # normalizing the pixel value\n",
        "        img = img/255\n",
        "        training.append(img)\n",
        "    return training\n"
      ],
      "execution_count": 9,
      "outputs": []
    },
    {
      "cell_type": "code",
      "metadata": {
        "id": "AucPE_eEhDi1"
      },
      "source": [
        "training = get_train_data(frame_train + '/*.jpg')\n",
        "validation = get_train_data(frame_valid + '/*.jpg')"
      ],
      "execution_count": 10,
      "outputs": []
    },
    {
      "cell_type": "code",
      "metadata": {
        "id": "dNgZ7O93qxcC"
      },
      "source": [
        "x_train=np.array(training)\n",
        "x_valid=np.array(validation)\n",
        "y_train= np.array(train_label)\n",
        "y_valid=np.array(valid_label)"
      ],
      "execution_count": 11,
      "outputs": []
    },
    {
      "cell_type": "code",
      "metadata": {
        "id": "BcqRc41lJOOy",
        "colab": {
          "base_uri": "https://localhost:8080/"
        },
        "outputId": "6e194a68-6fb4-4775-a406-e07d7a2980b1"
      },
      "source": [
        "x_train=x_train.reshape(x_train.shape[0]//10,10,220,220, 3)\n",
        "x_valid=x_valid.reshape(x_valid.shape[0]//10,10,220, 220, 3)\n",
        "x_train.shape\n",
        "x_valid.shape\n",
        "y_valid.shape"
      ],
      "execution_count": 12,
      "outputs": [
        {
          "output_type": "execute_result",
          "data": {
            "text/plain": [
              "(72,)"
            ]
          },
          "metadata": {
            "tags": []
          },
          "execution_count": 12
        }
      ]
    },
    {
      "cell_type": "code",
      "metadata": {
        "colab": {
          "base_uri": "https://localhost:8080/"
        },
        "id": "z8tv_cKIAcYY",
        "outputId": "e48a2660-4390-4e16-9266-1493a28bbbcb"
      },
      "source": [
        "#3D CNN\n",
        "input_model=Input(shape=(10,220,220,3))\n",
        "layer=Conv3D(64,(3,3,3),activation='relu')(input_model)\n",
        "layer=MaxPooling3D((2,2,2))(layer)\n",
        "layer=BatchNormalization()(layer)\n",
        "\n",
        "layer=Conv3D(64,(3,3,3),activation='relu')(layer)\n",
        "layer=MaxPooling3D((2,2,2))(layer)\n",
        "layer=BatchNormalization()(layer)\n",
        "layer=Dropout(0.3)(layer)\n",
        "\n",
        "layer=Flatten()(layer)\n",
        "layer=Dense(128,activation='relu')(layer)\n",
        "layer=Dropout(0.3)(layer)\n",
        "layer=Dense(64,activation='relu')(layer)\n",
        "layer_output=Dense(1,activation='sigmoid')(layer)\n",
        "\n",
        "model=Model(input_model,layer_output)\n",
        "\n",
        "model.summary()"
      ],
      "execution_count": 13,
      "outputs": [
        {
          "output_type": "stream",
          "text": [
            "Model: \"model\"\n",
            "_________________________________________________________________\n",
            "Layer (type)                 Output Shape              Param #   \n",
            "=================================================================\n",
            "input_1 (InputLayer)         [(None, 10, 220, 220, 3)] 0         \n",
            "_________________________________________________________________\n",
            "conv3d (Conv3D)              (None, 8, 218, 218, 64)   5248      \n",
            "_________________________________________________________________\n",
            "max_pooling3d (MaxPooling3D) (None, 4, 109, 109, 64)   0         \n",
            "_________________________________________________________________\n",
            "batch_normalization (BatchNo (None, 4, 109, 109, 64)   256       \n",
            "_________________________________________________________________\n",
            "conv3d_1 (Conv3D)            (None, 2, 107, 107, 64)   110656    \n",
            "_________________________________________________________________\n",
            "max_pooling3d_1 (MaxPooling3 (None, 1, 53, 53, 64)     0         \n",
            "_________________________________________________________________\n",
            "batch_normalization_1 (Batch (None, 1, 53, 53, 64)     256       \n",
            "_________________________________________________________________\n",
            "dropout (Dropout)            (None, 1, 53, 53, 64)     0         \n",
            "_________________________________________________________________\n",
            "flatten (Flatten)            (None, 179776)            0         \n",
            "_________________________________________________________________\n",
            "dense (Dense)                (None, 128)               23011456  \n",
            "_________________________________________________________________\n",
            "dropout_1 (Dropout)          (None, 128)               0         \n",
            "_________________________________________________________________\n",
            "dense_1 (Dense)              (None, 64)                8256      \n",
            "_________________________________________________________________\n",
            "dense_2 (Dense)              (None, 1)                 65        \n",
            "=================================================================\n",
            "Total params: 23,136,193\n",
            "Trainable params: 23,135,937\n",
            "Non-trainable params: 256\n",
            "_________________________________________________________________\n"
          ],
          "name": "stdout"
        }
      ]
    },
    {
      "cell_type": "code",
      "metadata": {
        "colab": {
          "base_uri": "https://localhost:8080/"
        },
        "id": "wkGC_8gqAnAF",
        "outputId": "9cdd7aa3-bd6c-44ac-8a7b-b131d5a910a1"
      },
      "source": [
        "callbacks_model=[keras.callbacks.EarlyStopping(\n",
        "               monitor='acc',patience=10),\n",
        "               keras.callbacks.ModelCheckpoint(\n",
        "               filepath= \"/content/gdrive/MyDrive/model10.h5\" ,\n",
        "               monitor='val_loss',\n",
        "               save_best_only=True),]\n",
        "\n",
        "model.compile(optimizer=optimizers.Adam(lr=0.001),loss='binary_crossentropy',metrics=['acc'])\n",
        "\n",
        "history=model.fit(x_train,y_train,batch_size=5,epochs=10,\n",
        "               validation_data=(x_valid,y_valid),callbacks=callbacks_model)  "
      ],
      "execution_count": 14,
      "outputs": [
        {
          "output_type": "stream",
          "text": [
            "Epoch 1/10\n",
            "22/22 [==============================] - 16s 253ms/step - loss: 7.8156 - acc: 0.5260 - val_loss: 5.6222 - val_acc: 0.4444\n",
            "Epoch 2/10\n",
            "22/22 [==============================] - 4s 183ms/step - loss: 7.6933 - acc: 0.5956 - val_loss: 1.4119 - val_acc: 0.5278\n",
            "Epoch 3/10\n",
            "22/22 [==============================] - 4s 183ms/step - loss: 6.3632 - acc: 0.7998 - val_loss: 3.5288 - val_acc: 0.5556\n",
            "Epoch 4/10\n",
            "22/22 [==============================] - 4s 185ms/step - loss: 6.4215 - acc: 0.7594 - val_loss: 13.2913 - val_acc: 0.4444\n",
            "Epoch 5/10\n",
            "22/22 [==============================] - 4s 187ms/step - loss: 6.7932 - acc: 0.8487 - val_loss: 6.1686 - val_acc: 0.5417\n",
            "Epoch 6/10\n",
            "22/22 [==============================] - 4s 185ms/step - loss: 2.3796 - acc: 0.9066 - val_loss: 12.2180 - val_acc: 0.5417\n",
            "Epoch 7/10\n",
            "22/22 [==============================] - 4s 185ms/step - loss: 1.9863 - acc: 0.9104 - val_loss: 10.3421 - val_acc: 0.5694\n",
            "Epoch 8/10\n",
            "22/22 [==============================] - 4s 186ms/step - loss: 2.6092 - acc: 0.8794 - val_loss: 7.8001 - val_acc: 0.5417\n",
            "Epoch 9/10\n",
            "22/22 [==============================] - 4s 187ms/step - loss: 1.8947 - acc: 0.8872 - val_loss: 20.5303 - val_acc: 0.5833\n",
            "Epoch 10/10\n",
            "22/22 [==============================] - 4s 186ms/step - loss: 1.5209 - acc: 0.9285 - val_loss: 26.2136 - val_acc: 0.5556\n"
          ],
          "name": "stdout"
        }
      ]
    },
    {
      "cell_type": "code",
      "metadata": {
        "colab": {
          "base_uri": "https://localhost:8080/",
          "height": 1000
        },
        "id": "-PayQWFshWsi",
        "outputId": "5107fec5-8207-4bb7-d24c-21c515b1d536"
      },
      "source": [
        "plot_model(model, to_file='model_plot.png', show_shapes=True, show_layer_names=True)"
      ],
      "execution_count": 15,
      "outputs": [
        {
          "output_type": "execute_result",
          "data": {
            "image/png": "[encoded data removed]",
            "text/plain": [
              "<IPython.core.display.Image object>"
            ]
          },
          "metadata": {
            "tags": []
          },
          "execution_count": 15
        }
      ]
    },
    {
      "cell_type": "code",
      "metadata": {
        "id": "cv4rXadBhgwD",
        "colab": {
          "base_uri": "https://localhost:8080/",
          "height": 312
        },
        "outputId": "88ce91f1-de83-46ea-a932-6314f14f5b47"
      },
      "source": [
        "epochs = range(1,11)\n",
        "plt.plot(epochs, history.history['loss'], 'b', label = 'training loss')\n",
        "plt.plot(epochs, history.history['val_loss'], 'g', label = 'validation loss')\n",
        "plt.title('Training and validation requiremet loss')\n",
        "plt.ylabel('loss')\n",
        "plt.xlabel('epochs')\n",
        "plt.legend()"
      ],
      "execution_count": 16,
      "outputs": [
        {
          "output_type": "execute_result",
          "data": {
            "text/plain": [
              "<matplotlib.legend.Legend at 0x7f9f90061b10>"
            ]
          },
          "metadata": {
            "tags": []
          },
          "execution_count": 16
        },
        {
          "output_type": "display_data",
          "data": {
            "image/png": "[encoded data removed]",
            "text/plain": [
              "<Figure size 432x288 with 1 Axes>"
            ]
          },
          "metadata": {
            "tags": [],
            "needs_background": "light"
          }
        }
      ]
    },
    {
      "cell_type": "code",
      "metadata": {
        "colab": {
          "base_uri": "https://localhost:8080/"
        },
        "id": "mhxQ8UOR8cAQ",
        "outputId": "89ab3c66-2386-4ba9-ea85-598c63b0f8c2"
      },
      "source": [
        "! mkdir test_dir\n",
        "! unzip '/content/gdrive/MyDrive/Test_Kick.zip' -d test_dir"
      ],
      "execution_count": 17,
      "outputs": [
        {
          "output_type": "stream",
          "text": [
            "mkdir: cannot create directory ‘test_dir’: File exists\n",
            "Archive:  /content/gdrive/MyDrive/Test_Kick.zip\n",
            "replace test_dir/Test_Kick/kick_0.avi? [y]es, [n]o, [A]ll, [N]one, [r]ename: "
          ],
          "name": "stdout"
        }
      ]
    },
    {
      "cell_type": "code",
      "metadata": {
        "id": "43a0ofyt8_0W",
        "colab": {
          "base_uri": "https://localhost:8080/"
        },
        "outputId": "9e3f66c7-27b8-498a-d351-f47b4362e925"
      },
      "source": [
        "! mkdir frames_test"
      ],
      "execution_count": 20,
      "outputs": [
        {
          "output_type": "stream",
          "text": [
            "mkdir: cannot create directory ‘frames_test’: File exists\n"
          ],
          "name": "stdout"
        }
      ]
    },
    {
      "cell_type": "code",
      "metadata": {
        "id": "Bn7LBITd9JhM"
      },
      "source": [
        "video_directory='/content/test_dir/Test_Kick'\n",
        "frames_test='/content/frames_test'"
      ],
      "execution_count": 18,
      "outputs": []
    },
    {
      "cell_type": "code",
      "metadata": {
        "colab": {
          "base_uri": "https://localhost:8080/",
          "height": 1000
        },
        "id": "c8PCBOR09aML",
        "outputId": "da73b8d1-134e-4795-cf5b-69871dc6d8bf"
      },
      "source": [
        "#save the frames of all videos\n",
        "videos=os.listdir(video_directory)\n",
        "test_label=[]\n",
        "for i in videos:\n",
        "    if \"other_\" in i:\n",
        "        test_label.append(0)\n",
        "    else: \n",
        "        test_label.append(1)\n",
        "print(len(test_label))\n",
        "\n",
        "videos=pd.DataFrame(videos,test_label).reset_index()\n",
        "videos.columns=[\"test_label\",\"video_name\"]\n",
        "\n",
        "other=videos.loc[videos[\"test_label\"]==0,]\n",
        "waiving=videos.loc[videos[\"test_label\"]==1,]\n",
        "\n",
        "test_set=other.append(waiving)\n",
        "\n",
        "test_set"
      ],
      "execution_count": 19,
      "outputs": [
        {
          "output_type": "stream",
          "text": [
            "54\n"
          ],
          "name": "stdout"
        },
        {
          "output_type": "execute_result",
          "data": {
            "text/html": [
              "<div>\n",
              "<style scoped>\n",
              "    .dataframe tbody tr th:only-of-type {\n",
              "        vertical-align: middle;\n",
              "    }\n",
              "\n",
              "    .dataframe tbody tr th {\n",
              "        vertical-align: top;\n",
              "    }\n",
              "\n",
              "    .dataframe thead th {\n",
              "        text-align: right;\n",
              "    }\n",
              "</style>\n",
              "<table border=\"1\" class=\"dataframe\">\n",
              "  <thead>\n",
              "    <tr style=\"text-align: right;\">\n",
              "      <th></th>\n",
              "      <th>test_label</th>\n",
              "      <th>video_name</th>\n",
              "    </tr>\n",
              "  </thead>\n",
              "  <tbody>\n",
              "    <tr>\n",
              "      <th>2</th>\n",
              "      <td>0</td>\n",
              "      <td>other_15.avi</td>\n",
              "    </tr>\n",
              "    <tr>\n",
              "      <th>9</th>\n",
              "      <td>0</td>\n",
              "      <td>other_5.avi</td>\n",
              "    </tr>\n",
              "    <tr>\n",
              "      <th>10</th>\n",
              "      <td>0</td>\n",
              "      <td>other_17.avi</td>\n",
              "    </tr>\n",
              "    <tr>\n",
              "      <th>13</th>\n",
              "      <td>0</td>\n",
              "      <td>other_23.avi</td>\n",
              "    </tr>\n",
              "    <tr>\n",
              "      <th>14</th>\n",
              "      <td>0</td>\n",
              "      <td>other_21.avi</td>\n",
              "    </tr>\n",
              "    <tr>\n",
              "      <th>17</th>\n",
              "      <td>0</td>\n",
              "      <td>other_3.avi</td>\n",
              "    </tr>\n",
              "    <tr>\n",
              "      <th>23</th>\n",
              "      <td>0</td>\n",
              "      <td>other_14.avi</td>\n",
              "    </tr>\n",
              "    <tr>\n",
              "      <th>26</th>\n",
              "      <td>0</td>\n",
              "      <td>other_4.avi</td>\n",
              "    </tr>\n",
              "    <tr>\n",
              "      <th>27</th>\n",
              "      <td>0</td>\n",
              "      <td>other_10.avi</td>\n",
              "    </tr>\n",
              "    <tr>\n",
              "      <th>28</th>\n",
              "      <td>0</td>\n",
              "      <td>other_11.avi</td>\n",
              "    </tr>\n",
              "    <tr>\n",
              "      <th>29</th>\n",
              "      <td>0</td>\n",
              "      <td>other_1.avi</td>\n",
              "    </tr>\n",
              "    <tr>\n",
              "      <th>31</th>\n",
              "      <td>0</td>\n",
              "      <td>other_6.avi</td>\n",
              "    </tr>\n",
              "    <tr>\n",
              "      <th>32</th>\n",
              "      <td>0</td>\n",
              "      <td>other_2.avi</td>\n",
              "    </tr>\n",
              "    <tr>\n",
              "      <th>34</th>\n",
              "      <td>0</td>\n",
              "      <td>other_8.avi</td>\n",
              "    </tr>\n",
              "    <tr>\n",
              "      <th>37</th>\n",
              "      <td>0</td>\n",
              "      <td>other_13.avi</td>\n",
              "    </tr>\n",
              "    <tr>\n",
              "      <th>38</th>\n",
              "      <td>0</td>\n",
              "      <td>other_22.avi</td>\n",
              "    </tr>\n",
              "    <tr>\n",
              "      <th>39</th>\n",
              "      <td>0</td>\n",
              "      <td>other_9.avi</td>\n",
              "    </tr>\n",
              "    <tr>\n",
              "      <th>42</th>\n",
              "      <td>0</td>\n",
              "      <td>other_0.avi</td>\n",
              "    </tr>\n",
              "    <tr>\n",
              "      <th>43</th>\n",
              "      <td>0</td>\n",
              "      <td>other_18.avi</td>\n",
              "    </tr>\n",
              "    <tr>\n",
              "      <th>44</th>\n",
              "      <td>0</td>\n",
              "      <td>other_12.avi</td>\n",
              "    </tr>\n",
              "    <tr>\n",
              "      <th>46</th>\n",
              "      <td>0</td>\n",
              "      <td>other_19.avi</td>\n",
              "    </tr>\n",
              "    <tr>\n",
              "      <th>49</th>\n",
              "      <td>0</td>\n",
              "      <td>other_7.avi</td>\n",
              "    </tr>\n",
              "    <tr>\n",
              "      <th>52</th>\n",
              "      <td>0</td>\n",
              "      <td>other_16.avi</td>\n",
              "    </tr>\n",
              "    <tr>\n",
              "      <th>53</th>\n",
              "      <td>0</td>\n",
              "      <td>other_20.avi</td>\n",
              "    </tr>\n",
              "    <tr>\n",
              "      <th>0</th>\n",
              "      <td>1</td>\n",
              "      <td>kick_24.avi</td>\n",
              "    </tr>\n",
              "    <tr>\n",
              "      <th>1</th>\n",
              "      <td>1</td>\n",
              "      <td>kick_20.avi</td>\n",
              "    </tr>\n",
              "    <tr>\n",
              "      <th>3</th>\n",
              "      <td>1</td>\n",
              "      <td>kick_27.avi</td>\n",
              "    </tr>\n",
              "    <tr>\n",
              "      <th>4</th>\n",
              "      <td>1</td>\n",
              "      <td>kick_4.avi</td>\n",
              "    </tr>\n",
              "    <tr>\n",
              "      <th>5</th>\n",
              "      <td>1</td>\n",
              "      <td>kick_29.avi</td>\n",
              "    </tr>\n",
              "    <tr>\n",
              "      <th>6</th>\n",
              "      <td>1</td>\n",
              "      <td>kick_0.avi</td>\n",
              "    </tr>\n",
              "    <tr>\n",
              "      <th>7</th>\n",
              "      <td>1</td>\n",
              "      <td>kick_15.avi</td>\n",
              "    </tr>\n",
              "    <tr>\n",
              "      <th>8</th>\n",
              "      <td>1</td>\n",
              "      <td>kick_13.avi</td>\n",
              "    </tr>\n",
              "    <tr>\n",
              "      <th>11</th>\n",
              "      <td>1</td>\n",
              "      <td>kick_26.avi</td>\n",
              "    </tr>\n",
              "    <tr>\n",
              "      <th>12</th>\n",
              "      <td>1</td>\n",
              "      <td>kick_28.avi</td>\n",
              "    </tr>\n",
              "    <tr>\n",
              "      <th>15</th>\n",
              "      <td>1</td>\n",
              "      <td>kick_22.avi</td>\n",
              "    </tr>\n",
              "    <tr>\n",
              "      <th>16</th>\n",
              "      <td>1</td>\n",
              "      <td>kick_14.avi</td>\n",
              "    </tr>\n",
              "    <tr>\n",
              "      <th>18</th>\n",
              "      <td>1</td>\n",
              "      <td>kick_10.avi</td>\n",
              "    </tr>\n",
              "    <tr>\n",
              "      <th>19</th>\n",
              "      <td>1</td>\n",
              "      <td>kick_9.avi</td>\n",
              "    </tr>\n",
              "    <tr>\n",
              "      <th>20</th>\n",
              "      <td>1</td>\n",
              "      <td>kick_17.avi</td>\n",
              "    </tr>\n",
              "    <tr>\n",
              "      <th>21</th>\n",
              "      <td>1</td>\n",
              "      <td>kick_16.avi</td>\n",
              "    </tr>\n",
              "    <tr>\n",
              "      <th>22</th>\n",
              "      <td>1</td>\n",
              "      <td>kick_3.avi</td>\n",
              "    </tr>\n",
              "    <tr>\n",
              "      <th>24</th>\n",
              "      <td>1</td>\n",
              "      <td>kick_25.avi</td>\n",
              "    </tr>\n",
              "    <tr>\n",
              "      <th>25</th>\n",
              "      <td>1</td>\n",
              "      <td>kick_12.avi</td>\n",
              "    </tr>\n",
              "    <tr>\n",
              "      <th>30</th>\n",
              "      <td>1</td>\n",
              "      <td>kick_2.avi</td>\n",
              "    </tr>\n",
              "    <tr>\n",
              "      <th>33</th>\n",
              "      <td>1</td>\n",
              "      <td>kick_23.avi</td>\n",
              "    </tr>\n",
              "    <tr>\n",
              "      <th>35</th>\n",
              "      <td>1</td>\n",
              "      <td>kick_5.avi</td>\n",
              "    </tr>\n",
              "    <tr>\n",
              "      <th>36</th>\n",
              "      <td>1</td>\n",
              "      <td>kick_1.avi</td>\n",
              "    </tr>\n",
              "    <tr>\n",
              "      <th>40</th>\n",
              "      <td>1</td>\n",
              "      <td>kick_8.avi</td>\n",
              "    </tr>\n",
              "    <tr>\n",
              "      <th>41</th>\n",
              "      <td>1</td>\n",
              "      <td>kick_18.avi</td>\n",
              "    </tr>\n",
              "    <tr>\n",
              "      <th>45</th>\n",
              "      <td>1</td>\n",
              "      <td>kick_11.avi</td>\n",
              "    </tr>\n",
              "    <tr>\n",
              "      <th>47</th>\n",
              "      <td>1</td>\n",
              "      <td>kick_21.avi</td>\n",
              "    </tr>\n",
              "    <tr>\n",
              "      <th>48</th>\n",
              "      <td>1</td>\n",
              "      <td>kick_19.avi</td>\n",
              "    </tr>\n",
              "    <tr>\n",
              "      <th>50</th>\n",
              "      <td>1</td>\n",
              "      <td>kick_6.avi</td>\n",
              "    </tr>\n",
              "    <tr>\n",
              "      <th>51</th>\n",
              "      <td>1</td>\n",
              "      <td>kick_7.avi</td>\n",
              "    </tr>\n",
              "  </tbody>\n",
              "</table>\n",
              "</div>"
            ],
            "text/plain": [
              "    test_label    video_name\n",
              "2            0  other_15.avi\n",
              "9            0   other_5.avi\n",
              "10           0  other_17.avi\n",
              "13           0  other_23.avi\n",
              "14           0  other_21.avi\n",
              "17           0   other_3.avi\n",
              "23           0  other_14.avi\n",
              "26           0   other_4.avi\n",
              "27           0  other_10.avi\n",
              "28           0  other_11.avi\n",
              "29           0   other_1.avi\n",
              "31           0   other_6.avi\n",
              "32           0   other_2.avi\n",
              "34           0   other_8.avi\n",
              "37           0  other_13.avi\n",
              "38           0  other_22.avi\n",
              "39           0   other_9.avi\n",
              "42           0   other_0.avi\n",
              "43           0  other_18.avi\n",
              "44           0  other_12.avi\n",
              "46           0  other_19.avi\n",
              "49           0   other_7.avi\n",
              "52           0  other_16.avi\n",
              "53           0  other_20.avi\n",
              "0            1   kick_24.avi\n",
              "1            1   kick_20.avi\n",
              "3            1   kick_27.avi\n",
              "4            1    kick_4.avi\n",
              "5            1   kick_29.avi\n",
              "6            1    kick_0.avi\n",
              "7            1   kick_15.avi\n",
              "8            1   kick_13.avi\n",
              "11           1   kick_26.avi\n",
              "12           1   kick_28.avi\n",
              "15           1   kick_22.avi\n",
              "16           1   kick_14.avi\n",
              "18           1   kick_10.avi\n",
              "19           1    kick_9.avi\n",
              "20           1   kick_17.avi\n",
              "21           1   kick_16.avi\n",
              "22           1    kick_3.avi\n",
              "24           1   kick_25.avi\n",
              "25           1   kick_12.avi\n",
              "30           1    kick_2.avi\n",
              "33           1   kick_23.avi\n",
              "35           1    kick_5.avi\n",
              "36           1    kick_1.avi\n",
              "40           1    kick_8.avi\n",
              "41           1   kick_18.avi\n",
              "45           1   kick_11.avi\n",
              "47           1   kick_21.avi\n",
              "48           1   kick_19.avi\n",
              "50           1    kick_6.avi\n",
              "51           1    kick_7.avi"
            ]
          },
          "metadata": {
            "tags": []
          },
          "execution_count": 19
        }
      ]
    },
    {
      "cell_type": "code",
      "metadata": {
        "id": "zAP84-PV9jU2",
        "colab": {
          "base_uri": "https://localhost:8080/"
        },
        "outputId": "de8e2251-7adf-45aa-8695-a2a90ed3da5d"
      },
      "source": [
        "#save the frames of all videos\n",
        "get_frames(test_set,frames_test)"
      ],
      "execution_count": 20,
      "outputs": [
        {
          "output_type": "stream",
          "text": [
            "All frames written in the  /content/frames_test\n"
          ],
          "name": "stdout"
        }
      ]
    },
    {
      "cell_type": "code",
      "metadata": {
        "id": "3ztOSIdSBews"
      },
      "source": [
        "testing = get_train_data(frames_test + '/*.jpg')"
      ],
      "execution_count": 21,
      "outputs": []
    },
    {
      "cell_type": "code",
      "metadata": {
        "colab": {
          "base_uri": "https://localhost:8080/"
        },
        "id": "rZVyaVcn9qVe",
        "outputId": "4775f95f-322d-44c5-f329-b6d806080f2d"
      },
      "source": [
        "X_test = np.array(testing)\n",
        "y_test = np.array(test_label)\n",
        "X_test=X_test.reshape(X_test.shape[0]//10,10,220, 220, 3)\n",
        "print(X_test.shape)\n",
        "print(y_test.shape)"
      ],
      "execution_count": 22,
      "outputs": [
        {
          "output_type": "stream",
          "text": [
            "(54, 10, 220, 220, 3)\n",
            "(54,)\n"
          ],
          "name": "stdout"
        }
      ]
    },
    {
      "cell_type": "code",
      "metadata": {
        "colab": {
          "base_uri": "https://localhost:8080/"
        },
        "id": "ibetb0LS-WLd",
        "outputId": "896c718b-6cc0-4478-93b2-7bb7afec57d1"
      },
      "source": [
        "scores = model.evaluate(X_test, y_test)\n",
        "print(\"%s: %.2f%%\" % (model.metrics_names[1], scores[1]*100))"
      ],
      "execution_count": 23,
      "outputs": [
        {
          "output_type": "stream",
          "text": [
            "2/2 [==============================] - 4s 1s/step - loss: 28.9183 - acc: 0.5556\n",
            "acc: 55.56%\n"
          ],
          "name": "stdout"
        }
      ]
    },
    {
      "cell_type": "code",
      "metadata": {
        "id": "Wz1b36FB5SxG"
      },
      "source": [
        ""
      ],
      "execution_count": null,
      "outputs": []
    }
  ]
}